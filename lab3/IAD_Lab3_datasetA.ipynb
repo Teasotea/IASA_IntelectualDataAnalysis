{
  "nbformat": 4,
  "nbformat_minor": 0,
  "metadata": {
    "colab": {
      "provenance": [],
      "toc_visible": true,
      "authorship_tag": "ABX9TyOXbsc630rysCR29ZsA3gwg",
      "include_colab_link": true
    },
    "kernelspec": {
      "name": "python3",
      "display_name": "Python 3"
    },
    "language_info": {
      "name": "python"
    }
  },
  "cells": [
    {
      "cell_type": "markdown",
      "metadata": {
        "id": "view-in-github",
        "colab_type": "text"
      },
      "source": [
        "<a href=\"https://colab.research.google.com/github/Teasotea/IntelectualDataAnalysis/blob/main/lab3/IAD_Lab3_datasetA.ipynb\" target=\"_parent\"><img src=\"https://colab.research.google.com/assets/colab-badge.svg\" alt=\"Open In Colab\"/></a>"
      ]
    },
    {
      "cell_type": "markdown",
      "source": [
        "# Лабораторна робота №3.\n",
        "\n",
        "### Завдання\n",
        "Початкові дані (два набори) і Хід виконання роботи такі ж як для Лабораторної роботи №2.\n",
        "У кого в роботі №2 була класифікація, той у роботі №3 використовує `sklearn.neural_network.MLPClassifier.`\n",
        "\n",
        "Почати з одношарової моделі нейронної мережі і визначити чи достатньо буде одношарової моделі для даних. Перевірте скільки нейронів в одношаровій моделі буде достатньо для задовільного розв'язання задачі бінарної класифікації."
      ],
      "metadata": {
        "id": "WfrvHokOWefm"
      }
    },
    {
      "cell_type": "markdown",
      "source": [
        "# Import Libraries & Load Data"
      ],
      "metadata": {
        "id": "Vk9XS1DkewGj"
      }
    },
    {
      "cell_type": "code",
      "execution_count": 20,
      "metadata": {
        "id": "TzHetp2qP2WV"
      },
      "outputs": [],
      "source": [
        "import numpy as np\n",
        "import pandas as pd\n",
        "import matplotlib.pyplot as plt\n",
        "from matplotlib.pyplot import figure\n",
        "import seaborn as sns\n",
        "\n",
        "from sklearn.model_selection import cross_val_score\n",
        "from sklearn.tree import DecisionTreeClassifier\n",
        "from sklearn.neural_network import MLPClassifier\n",
        "from sklearn.datasets import make_blobs\n",
        "from sklearn import tree\n",
        "from sklearn.metrics import accuracy_score, precision_score, recall_score, f1_score, roc_auc_score\n",
        "from sklearn.metrics import classification_report\n",
        "from sklearn.metrics import precision_recall_curve\n",
        "from sklearn.metrics import roc_curve, auc\n",
        "from sklearn.metrics import confusion_matrix, ConfusionMatrixDisplay\n",
        "from sklearn.preprocessing import OneHotEncoder"
      ]
    },
    {
      "cell_type": "code",
      "source": [
        "from itertools import cycle\n",
        "from sklearn.metrics import PrecisionRecallDisplay\n",
        "from sklearn.metrics import average_precision_score\n",
        "from sklearn.model_selection import GridSearchCV"
      ],
      "metadata": {
        "id": "4B2rlfZklvtv"
      },
      "execution_count": 21,
      "outputs": []
    },
    {
      "cell_type": "code",
      "source": [
        "# dataset A\n",
        "X1, Y1 = make_blobs(n_samples=400, centers=4, cluster_std=0.60, random_state=0)\n",
        "\n",
        "rng = np.random.RandomState(13)\n",
        "X_stretched = np.dot(X1, rng.randn(2,2))"
      ],
      "metadata": {
        "id": "G8yISnohe12V"
      },
      "execution_count": 22,
      "outputs": []
    },
    {
      "cell_type": "code",
      "source": [
        "X1 = pd.DataFrame(X_stretched)\n",
        "Y1 = pd.DataFrame(Y1)"
      ],
      "metadata": {
        "id": "KH_yyBPLgeG3"
      },
      "execution_count": 23,
      "outputs": []
    },
    {
      "cell_type": "code",
      "source": [
        "X1.shape, Y1.shape"
      ],
      "metadata": {
        "colab": {
          "base_uri": "https://localhost:8080/"
        },
        "id": "rbVJlbvekT6B",
        "outputId": "08f34c0d-5201-47aa-d9af-abf913203aa8"
      },
      "execution_count": 24,
      "outputs": [
        {
          "output_type": "execute_result",
          "data": {
            "text/plain": [
              "((400, 2), (400, 1))"
            ]
          },
          "metadata": {},
          "execution_count": 24
        }
      ]
    },
    {
      "cell_type": "code",
      "source": [
        "data = pd.concat([X1,Y1], axis=1, join=\"inner\")\n",
        "data.columns = ['X1','X2','Y']\n",
        "data.head()"
      ],
      "metadata": {
        "colab": {
          "base_uri": "https://localhost:8080/",
          "height": 206
        },
        "id": "-sWOcN5ilkUp",
        "outputId": "2382cc2a-412e-457e-a09c-b07f784a2ce0"
      },
      "execution_count": 25,
      "outputs": [
        {
          "output_type": "execute_result",
          "data": {
            "text/plain": [
              "         X1        X2  Y\n",
              "0 -0.466891  3.119969  3\n",
              "1  1.809786 -0.894205  2\n",
              "2  1.929417 -0.799470  2\n",
              "3 -0.692774  2.479103  0\n",
              "4  1.700245 -0.833930  2"
            ],
            "text/html": [
              "\n",
              "  <div id=\"df-891bb89b-5d9d-4501-b39f-1af7c5ce986f\">\n",
              "    <div class=\"colab-df-container\">\n",
              "      <div>\n",
              "<style scoped>\n",
              "    .dataframe tbody tr th:only-of-type {\n",
              "        vertical-align: middle;\n",
              "    }\n",
              "\n",
              "    .dataframe tbody tr th {\n",
              "        vertical-align: top;\n",
              "    }\n",
              "\n",
              "    .dataframe thead th {\n",
              "        text-align: right;\n",
              "    }\n",
              "</style>\n",
              "<table border=\"1\" class=\"dataframe\">\n",
              "  <thead>\n",
              "    <tr style=\"text-align: right;\">\n",
              "      <th></th>\n",
              "      <th>X1</th>\n",
              "      <th>X2</th>\n",
              "      <th>Y</th>\n",
              "    </tr>\n",
              "  </thead>\n",
              "  <tbody>\n",
              "    <tr>\n",
              "      <th>0</th>\n",
              "      <td>-0.466891</td>\n",
              "      <td>3.119969</td>\n",
              "      <td>3</td>\n",
              "    </tr>\n",
              "    <tr>\n",
              "      <th>1</th>\n",
              "      <td>1.809786</td>\n",
              "      <td>-0.894205</td>\n",
              "      <td>2</td>\n",
              "    </tr>\n",
              "    <tr>\n",
              "      <th>2</th>\n",
              "      <td>1.929417</td>\n",
              "      <td>-0.799470</td>\n",
              "      <td>2</td>\n",
              "    </tr>\n",
              "    <tr>\n",
              "      <th>3</th>\n",
              "      <td>-0.692774</td>\n",
              "      <td>2.479103</td>\n",
              "      <td>0</td>\n",
              "    </tr>\n",
              "    <tr>\n",
              "      <th>4</th>\n",
              "      <td>1.700245</td>\n",
              "      <td>-0.833930</td>\n",
              "      <td>2</td>\n",
              "    </tr>\n",
              "  </tbody>\n",
              "</table>\n",
              "</div>\n",
              "      <button class=\"colab-df-convert\" onclick=\"convertToInteractive('df-891bb89b-5d9d-4501-b39f-1af7c5ce986f')\"\n",
              "              title=\"Convert this dataframe to an interactive table.\"\n",
              "              style=\"display:none;\">\n",
              "        \n",
              "  <svg xmlns=\"http://www.w3.org/2000/svg\" height=\"24px\"viewBox=\"0 0 24 24\"\n",
              "       width=\"24px\">\n",
              "    <path d=\"M0 0h24v24H0V0z\" fill=\"none\"/>\n",
              "    <path d=\"M18.56 5.44l.94 2.06.94-2.06 2.06-.94-2.06-.94-.94-2.06-.94 2.06-2.06.94zm-11 1L8.5 8.5l.94-2.06 2.06-.94-2.06-.94L8.5 2.5l-.94 2.06-2.06.94zm10 10l.94 2.06.94-2.06 2.06-.94-2.06-.94-.94-2.06-.94 2.06-2.06.94z\"/><path d=\"M17.41 7.96l-1.37-1.37c-.4-.4-.92-.59-1.43-.59-.52 0-1.04.2-1.43.59L10.3 9.45l-7.72 7.72c-.78.78-.78 2.05 0 2.83L4 21.41c.39.39.9.59 1.41.59.51 0 1.02-.2 1.41-.59l7.78-7.78 2.81-2.81c.8-.78.8-2.07 0-2.86zM5.41 20L4 18.59l7.72-7.72 1.47 1.35L5.41 20z\"/>\n",
              "  </svg>\n",
              "      </button>\n",
              "      \n",
              "  <style>\n",
              "    .colab-df-container {\n",
              "      display:flex;\n",
              "      flex-wrap:wrap;\n",
              "      gap: 12px;\n",
              "    }\n",
              "\n",
              "    .colab-df-convert {\n",
              "      background-color: #E8F0FE;\n",
              "      border: none;\n",
              "      border-radius: 50%;\n",
              "      cursor: pointer;\n",
              "      display: none;\n",
              "      fill: #1967D2;\n",
              "      height: 32px;\n",
              "      padding: 0 0 0 0;\n",
              "      width: 32px;\n",
              "    }\n",
              "\n",
              "    .colab-df-convert:hover {\n",
              "      background-color: #E2EBFA;\n",
              "      box-shadow: 0px 1px 2px rgba(60, 64, 67, 0.3), 0px 1px 3px 1px rgba(60, 64, 67, 0.15);\n",
              "      fill: #174EA6;\n",
              "    }\n",
              "\n",
              "    [theme=dark] .colab-df-convert {\n",
              "      background-color: #3B4455;\n",
              "      fill: #D2E3FC;\n",
              "    }\n",
              "\n",
              "    [theme=dark] .colab-df-convert:hover {\n",
              "      background-color: #434B5C;\n",
              "      box-shadow: 0px 1px 3px 1px rgba(0, 0, 0, 0.15);\n",
              "      filter: drop-shadow(0px 1px 2px rgba(0, 0, 0, 0.3));\n",
              "      fill: #FFFFFF;\n",
              "    }\n",
              "  </style>\n",
              "\n",
              "      <script>\n",
              "        const buttonEl =\n",
              "          document.querySelector('#df-891bb89b-5d9d-4501-b39f-1af7c5ce986f button.colab-df-convert');\n",
              "        buttonEl.style.display =\n",
              "          google.colab.kernel.accessAllowed ? 'block' : 'none';\n",
              "\n",
              "        async function convertToInteractive(key) {\n",
              "          const element = document.querySelector('#df-891bb89b-5d9d-4501-b39f-1af7c5ce986f');\n",
              "          const dataTable =\n",
              "            await google.colab.kernel.invokeFunction('convertToInteractive',\n",
              "                                                     [key], {});\n",
              "          if (!dataTable) return;\n",
              "\n",
              "          const docLinkHtml = 'Like what you see? Visit the ' +\n",
              "            '<a target=\"_blank\" href=https://colab.research.google.com/notebooks/data_table.ipynb>data table notebook</a>'\n",
              "            + ' to learn more about interactive tables.';\n",
              "          element.innerHTML = '';\n",
              "          dataTable['output_type'] = 'display_data';\n",
              "          await google.colab.output.renderOutput(dataTable, element);\n",
              "          const docLink = document.createElement('div');\n",
              "          docLink.innerHTML = docLinkHtml;\n",
              "          element.appendChild(docLink);\n",
              "        }\n",
              "      </script>\n",
              "    </div>\n",
              "  </div>\n",
              "  "
            ]
          },
          "metadata": {},
          "execution_count": 25
        }
      ]
    },
    {
      "cell_type": "markdown",
      "source": [
        "# Exploratory Data Analysis (Data Visualization)"
      ],
      "metadata": {
        "id": "OwAK36AriNTJ"
      }
    },
    {
      "cell_type": "code",
      "source": [
        "fig = plt.figure()\n",
        "ax = plt.axes(projection='3d')\n",
        "ax.scatter3D(data['X1'].to_numpy(), data['X2'].to_numpy(), data['Y'].to_numpy(), c=\"b\")\n",
        "ax.set_xlabel('X1')\n",
        "ax.set_ylabel('X2')\n",
        "ax.set_zlabel('Y')\n",
        "ax.view_init(elev=30, azim = 30)\n",
        "plt.show()"
      ],
      "metadata": {
        "colab": {
          "base_uri": "https://localhost:8080/",
          "height": 248
        },
        "id": "XAIHRm77kZHE",
        "outputId": "34696095-a8ce-4a11-8ce1-0204806657be"
      },
      "execution_count": 26,
      "outputs": [
        {
          "output_type": "display_data",
          "data": {
            "text/plain": [
              "<Figure size 432x288 with 1 Axes>"
            ],
            "image/png": "[encoded data removed]"
          },
          "metadata": {
            "needs_background": "light"
          }
        }
      ]
    },
    {
      "cell_type": "code",
      "source": [
        "data.describe()"
      ],
      "metadata": {
        "colab": {
          "base_uri": "https://localhost:8080/",
          "height": 300
        },
        "id": "E8dxm3LloMH0",
        "outputId": "41b1c95e-d634-4bca-8d1e-106b894a8ff8"
      },
      "execution_count": null,
      "outputs": [
        {
          "output_type": "execute_result",
          "data": {
            "text/plain": [
              "               X1          X2           Y\n",
              "count  400.000000  400.000000  400.000000\n",
              "mean    -0.180275    1.790700    1.500000\n",
              "std      1.089922    1.165162    1.119434\n",
              "min     -2.468680   -0.995971    0.000000\n",
              "25%     -1.174293    1.098780    0.750000\n",
              "50%     -0.207917    2.122293    1.500000\n",
              "75%      0.767063    2.649584    2.250000\n",
              "max      1.967884    4.021044    3.000000"
            ],
            "text/html": [
              "\n",
              "  <div id=\"df-a206f180-2872-4163-9a3c-cf145a9bd7bc\">\n",
              "    <div class=\"colab-df-container\">\n",
              "      <div>\n",
              "<style scoped>\n",
              "    .dataframe tbody tr th:only-of-type {\n",
              "        vertical-align: middle;\n",
              "    }\n",
              "\n",
              "    .dataframe tbody tr th {\n",
              "        vertical-align: top;\n",
              "    }\n",
              "\n",
              "    .dataframe thead th {\n",
              "        text-align: right;\n",
              "    }\n",
              "</style>\n",
              "<table border=\"1\" class=\"dataframe\">\n",
              "  <thead>\n",
              "    <tr style=\"text-align: right;\">\n",
              "      <th></th>\n",
              "      <th>X1</th>\n",
              "      <th>X2</th>\n",
              "      <th>Y</th>\n",
              "    </tr>\n",
              "  </thead>\n",
              "  <tbody>\n",
              "    <tr>\n",
              "      <th>count</th>\n",
              "      <td>400.000000</td>\n",
              "      <td>400.000000</td>\n",
              "      <td>400.000000</td>\n",
              "    </tr>\n",
              "    <tr>\n",
              "      <th>mean</th>\n",
              "      <td>-0.180275</td>\n",
              "      <td>1.790700</td>\n",
              "      <td>1.500000</td>\n",
              "    </tr>\n",
              "    <tr>\n",
              "      <th>std</th>\n",
              "      <td>1.089922</td>\n",
              "      <td>1.165162</td>\n",
              "      <td>1.119434</td>\n",
              "    </tr>\n",
              "    <tr>\n",
              "      <th>min</th>\n",
              "      <td>-2.468680</td>\n",
              "      <td>-0.995971</td>\n",
              "      <td>0.000000</td>\n",
              "    </tr>\n",
              "    <tr>\n",
              "      <th>25%</th>\n",
              "      <td>-1.174293</td>\n",
              "      <td>1.098780</td>\n",
              "      <td>0.750000</td>\n",
              "    </tr>\n",
              "    <tr>\n",
              "      <th>50%</th>\n",
              "      <td>-0.207917</td>\n",
              "      <td>2.122293</td>\n",
              "      <td>1.500000</td>\n",
              "    </tr>\n",
              "    <tr>\n",
              "      <th>75%</th>\n",
              "      <td>0.767063</td>\n",
              "      <td>2.649584</td>\n",
              "      <td>2.250000</td>\n",
              "    </tr>\n",
              "    <tr>\n",
              "      <th>max</th>\n",
              "      <td>1.967884</td>\n",
              "      <td>4.021044</td>\n",
              "      <td>3.000000</td>\n",
              "    </tr>\n",
              "  </tbody>\n",
              "</table>\n",
              "</div>\n",
              "      <button class=\"colab-df-convert\" onclick=\"convertToInteractive('df-a206f180-2872-4163-9a3c-cf145a9bd7bc')\"\n",
              "              title=\"Convert this dataframe to an interactive table.\"\n",
              "              style=\"display:none;\">\n",
              "        \n",
              "  <svg xmlns=\"http://www.w3.org/2000/svg\" height=\"24px\"viewBox=\"0 0 24 24\"\n",
              "       width=\"24px\">\n",
              "    <path d=\"M0 0h24v24H0V0z\" fill=\"none\"/>\n",
              "    <path d=\"M18.56 5.44l.94 2.06.94-2.06 2.06-.94-2.06-.94-.94-2.06-.94 2.06-2.06.94zm-11 1L8.5 8.5l.94-2.06 2.06-.94-2.06-.94L8.5 2.5l-.94 2.06-2.06.94zm10 10l.94 2.06.94-2.06 2.06-.94-2.06-.94-.94-2.06-.94 2.06-2.06.94z\"/><path d=\"M17.41 7.96l-1.37-1.37c-.4-.4-.92-.59-1.43-.59-.52 0-1.04.2-1.43.59L10.3 9.45l-7.72 7.72c-.78.78-.78 2.05 0 2.83L4 21.41c.39.39.9.59 1.41.59.51 0 1.02-.2 1.41-.59l7.78-7.78 2.81-2.81c.8-.78.8-2.07 0-2.86zM5.41 20L4 18.59l7.72-7.72 1.47 1.35L5.41 20z\"/>\n",
              "  </svg>\n",
              "      </button>\n",
              "      \n",
              "  <style>\n",
              "    .colab-df-container {\n",
              "      display:flex;\n",
              "      flex-wrap:wrap;\n",
              "      gap: 12px;\n",
              "    }\n",
              "\n",
              "    .colab-df-convert {\n",
              "      background-color: #E8F0FE;\n",
              "      border: none;\n",
              "      border-radius: 50%;\n",
              "      cursor: pointer;\n",
              "      display: none;\n",
              "      fill: #1967D2;\n",
              "      height: 32px;\n",
              "      padding: 0 0 0 0;\n",
              "      width: 32px;\n",
              "    }\n",
              "\n",
              "    .colab-df-convert:hover {\n",
              "      background-color: #E2EBFA;\n",
              "      box-shadow: 0px 1px 2px rgba(60, 64, 67, 0.3), 0px 1px 3px 1px rgba(60, 64, 67, 0.15);\n",
              "      fill: #174EA6;\n",
              "    }\n",
              "\n",
              "    [theme=dark] .colab-df-convert {\n",
              "      background-color: #3B4455;\n",
              "      fill: #D2E3FC;\n",
              "    }\n",
              "\n",
              "    [theme=dark] .colab-df-convert:hover {\n",
              "      background-color: #434B5C;\n",
              "      box-shadow: 0px 1px 3px 1px rgba(0, 0, 0, 0.15);\n",
              "      filter: drop-shadow(0px 1px 2px rgba(0, 0, 0, 0.3));\n",
              "      fill: #FFFFFF;\n",
              "    }\n",
              "  </style>\n",
              "\n",
              "      <script>\n",
              "        const buttonEl =\n",
              "          document.querySelector('#df-a206f180-2872-4163-9a3c-cf145a9bd7bc button.colab-df-convert');\n",
              "        buttonEl.style.display =\n",
              "          google.colab.kernel.accessAllowed ? 'block' : 'none';\n",
              "\n",
              "        async function convertToInteractive(key) {\n",
              "          const element = document.querySelector('#df-a206f180-2872-4163-9a3c-cf145a9bd7bc');\n",
              "          const dataTable =\n",
              "            await google.colab.kernel.invokeFunction('convertToInteractive',\n",
              "                                                     [key], {});\n",
              "          if (!dataTable) return;\n",
              "\n",
              "          const docLinkHtml = 'Like what you see? Visit the ' +\n",
              "            '<a target=\"_blank\" href=https://colab.research.google.com/notebooks/data_table.ipynb>data table notebook</a>'\n",
              "            + ' to learn more about interactive tables.';\n",
              "          element.innerHTML = '';\n",
              "          dataTable['output_type'] = 'display_data';\n",
              "          await google.colab.output.renderOutput(dataTable, element);\n",
              "          const docLink = document.createElement('div');\n",
              "          docLink.innerHTML = docLinkHtml;\n",
              "          element.appendChild(docLink);\n",
              "        }\n",
              "      </script>\n",
              "    </div>\n",
              "  </div>\n",
              "  "
            ]
          },
          "metadata": {},
          "execution_count": 10
        }
      ]
    },
    {
      "cell_type": "markdown",
      "source": [
        "Дізнаємося, які класи присутні в даних"
      ],
      "metadata": {
        "id": "9szPdB2PuC5q"
      }
    },
    {
      "cell_type": "code",
      "source": [
        "data['Y'].value_counts()"
      ],
      "metadata": {
        "colab": {
          "base_uri": "https://localhost:8080/"
        },
        "id": "EjGQHDdWtsFt",
        "outputId": "54e05a6b-f7d1-4be3-d9d9-2da081accb2e"
      },
      "execution_count": null,
      "outputs": [
        {
          "output_type": "execute_result",
          "data": {
            "text/plain": [
              "3    100\n",
              "2    100\n",
              "0    100\n",
              "1    100\n",
              "Name: Y, dtype: int64"
            ]
          },
          "metadata": {},
          "execution_count": 11
        }
      ]
    },
    {
      "cell_type": "code",
      "source": [
        "plt.plot(data.X1, data.Y, 'ro', label = 'X1, Y')\n",
        "plt.xlabel('X1')\n",
        "plt.ylabel('Y')\n",
        "plt.grid(True)\n",
        "plt.show()\n",
        "\n",
        "plt.plot(data.X2, data.Y, 'bo', label = 'X2, Y')\n",
        "plt.xlabel('X2')\n",
        "plt.ylabel('Y')\n",
        "plt.grid(True)\n",
        "plt.show()\n",
        "\n",
        "plt.plot(data.X1, data.X2, 'ko', label = 'X1, X2')\n",
        "plt.xlabel('X1')\n",
        "plt.ylabel('X2')\n",
        "plt.grid(True)\n",
        "plt.show()"
      ],
      "metadata": {
        "colab": {
          "base_uri": "https://localhost:8080/",
          "height": 803
        },
        "id": "pEXAGh51oUCj",
        "outputId": "f484d2f4-4fd4-46ac-b7bf-72c569fba61a"
      },
      "execution_count": null,
      "outputs": [
        {
          "output_type": "display_data",
          "data": {
            "text/plain": [
              "<Figure size 432x288 with 1 Axes>"
            ],
            "image/png": "[encoded data removed]"
          },
          "metadata": {
            "needs_background": "light"
          }
        },
        {
          "output_type": "display_data",
          "data": {
            "text/plain": [
              "<Figure size 432x288 with 1 Axes>"
            ],
            "image/png": "[encoded data removed]"
          },
          "metadata": {
            "needs_background": "light"
          }
        },
        {
          "output_type": "display_data",
          "data": {
            "text/plain": [
              "<Figure size 432x288 with 1 Axes>"
            ],
            "image/png": "[encoded data removed]"
          },
          "metadata": {
            "needs_background": "light"
          }
        }
      ]
    },
    {
      "cell_type": "code",
      "source": [
        "data.corr()"
      ],
      "metadata": {
        "colab": {
          "base_uri": "https://localhost:8080/",
          "height": 144
        },
        "id": "jZBhDzG1qEAT",
        "outputId": "b85c6b2c-e6b1-4c80-bbd9-26d88fac0c87"
      },
      "execution_count": null,
      "outputs": [
        {
          "output_type": "execute_result",
          "data": {
            "text/plain": [
              "          X1        X2         Y\n",
              "X1  1.000000 -0.588064  0.692763\n",
              "X2 -0.588064  1.000000 -0.212406\n",
              "Y   0.692763 -0.212406  1.000000"
            ],
            "text/html": [
              "\n",
              "  <div id=\"df-e6b0de0c-fe7e-4fb7-a87a-68ae9cd73856\">\n",
              "    <div class=\"colab-df-container\">\n",
              "      <div>\n",
              "<style scoped>\n",
              "    .dataframe tbody tr th:only-of-type {\n",
              "        vertical-align: middle;\n",
              "    }\n",
              "\n",
              "    .dataframe tbody tr th {\n",
              "        vertical-align: top;\n",
              "    }\n",
              "\n",
              "    .dataframe thead th {\n",
              "        text-align: right;\n",
              "    }\n",
              "</style>\n",
              "<table border=\"1\" class=\"dataframe\">\n",
              "  <thead>\n",
              "    <tr style=\"text-align: right;\">\n",
              "      <th></th>\n",
              "      <th>X1</th>\n",
              "      <th>X2</th>\n",
              "      <th>Y</th>\n",
              "    </tr>\n",
              "  </thead>\n",
              "  <tbody>\n",
              "    <tr>\n",
              "      <th>X1</th>\n",
              "      <td>1.000000</td>\n",
              "      <td>-0.588064</td>\n",
              "      <td>0.692763</td>\n",
              "    </tr>\n",
              "    <tr>\n",
              "      <th>X2</th>\n",
              "      <td>-0.588064</td>\n",
              "      <td>1.000000</td>\n",
              "      <td>-0.212406</td>\n",
              "    </tr>\n",
              "    <tr>\n",
              "      <th>Y</th>\n",
              "      <td>0.692763</td>\n",
              "      <td>-0.212406</td>\n",
              "      <td>1.000000</td>\n",
              "    </tr>\n",
              "  </tbody>\n",
              "</table>\n",
              "</div>\n",
              "      <button class=\"colab-df-convert\" onclick=\"convertToInteractive('df-e6b0de0c-fe7e-4fb7-a87a-68ae9cd73856')\"\n",
              "              title=\"Convert this dataframe to an interactive table.\"\n",
              "              style=\"display:none;\">\n",
              "        \n",
              "  <svg xmlns=\"http://www.w3.org/2000/svg\" height=\"24px\"viewBox=\"0 0 24 24\"\n",
              "       width=\"24px\">\n",
              "    <path d=\"M0 0h24v24H0V0z\" fill=\"none\"/>\n",
              "    <path d=\"M18.56 5.44l.94 2.06.94-2.06 2.06-.94-2.06-.94-.94-2.06-.94 2.06-2.06.94zm-11 1L8.5 8.5l.94-2.06 2.06-.94-2.06-.94L8.5 2.5l-.94 2.06-2.06.94zm10 10l.94 2.06.94-2.06 2.06-.94-2.06-.94-.94-2.06-.94 2.06-2.06.94z\"/><path d=\"M17.41 7.96l-1.37-1.37c-.4-.4-.92-.59-1.43-.59-.52 0-1.04.2-1.43.59L10.3 9.45l-7.72 7.72c-.78.78-.78 2.05 0 2.83L4 21.41c.39.39.9.59 1.41.59.51 0 1.02-.2 1.41-.59l7.78-7.78 2.81-2.81c.8-.78.8-2.07 0-2.86zM5.41 20L4 18.59l7.72-7.72 1.47 1.35L5.41 20z\"/>\n",
              "  </svg>\n",
              "      </button>\n",
              "      \n",
              "  <style>\n",
              "    .colab-df-container {\n",
              "      display:flex;\n",
              "      flex-wrap:wrap;\n",
              "      gap: 12px;\n",
              "    }\n",
              "\n",
              "    .colab-df-convert {\n",
              "      background-color: #E8F0FE;\n",
              "      border: none;\n",
              "      border-radius: 50%;\n",
              "      cursor: pointer;\n",
              "      display: none;\n",
              "      fill: #1967D2;\n",
              "      height: 32px;\n",
              "      padding: 0 0 0 0;\n",
              "      width: 32px;\n",
              "    }\n",
              "\n",
              "    .colab-df-convert:hover {\n",
              "      background-color: #E2EBFA;\n",
              "      box-shadow: 0px 1px 2px rgba(60, 64, 67, 0.3), 0px 1px 3px 1px rgba(60, 64, 67, 0.15);\n",
              "      fill: #174EA6;\n",
              "    }\n",
              "\n",
              "    [theme=dark] .colab-df-convert {\n",
              "      background-color: #3B4455;\n",
              "      fill: #D2E3FC;\n",
              "    }\n",
              "\n",
              "    [theme=dark] .colab-df-convert:hover {\n",
              "      background-color: #434B5C;\n",
              "      box-shadow: 0px 1px 3px 1px rgba(0, 0, 0, 0.15);\n",
              "      filter: drop-shadow(0px 1px 2px rgba(0, 0, 0, 0.3));\n",
              "      fill: #FFFFFF;\n",
              "    }\n",
              "  </style>\n",
              "\n",
              "      <script>\n",
              "        const buttonEl =\n",
              "          document.querySelector('#df-e6b0de0c-fe7e-4fb7-a87a-68ae9cd73856 button.colab-df-convert');\n",
              "        buttonEl.style.display =\n",
              "          google.colab.kernel.accessAllowed ? 'block' : 'none';\n",
              "\n",
              "        async function convertToInteractive(key) {\n",
              "          const element = document.querySelector('#df-e6b0de0c-fe7e-4fb7-a87a-68ae9cd73856');\n",
              "          const dataTable =\n",
              "            await google.colab.kernel.invokeFunction('convertToInteractive',\n",
              "                                                     [key], {});\n",
              "          if (!dataTable) return;\n",
              "\n",
              "          const docLinkHtml = 'Like what you see? Visit the ' +\n",
              "            '<a target=\"_blank\" href=https://colab.research.google.com/notebooks/data_table.ipynb>data table notebook</a>'\n",
              "            + ' to learn more about interactive tables.';\n",
              "          element.innerHTML = '';\n",
              "          dataTable['output_type'] = 'display_data';\n",
              "          await google.colab.output.renderOutput(dataTable, element);\n",
              "          const docLink = document.createElement('div');\n",
              "          docLink.innerHTML = docLinkHtml;\n",
              "          element.appendChild(docLink);\n",
              "        }\n",
              "      </script>\n",
              "    </div>\n",
              "  </div>\n",
              "  "
            ]
          },
          "metadata": {},
          "execution_count": 117
        }
      ]
    },
    {
      "cell_type": "code",
      "source": [
        "sns.pairplot(data=data, hue='Y')\n",
        "plt.show()"
      ],
      "metadata": {
        "colab": {
          "base_uri": "https://localhost:8080/",
          "height": 374
        },
        "id": "Xz8RZm5Dukpb",
        "outputId": "d075396b-f40a-46a2-a341-35cef95a24f7"
      },
      "execution_count": null,
      "outputs": [
        {
          "output_type": "display_data",
          "data": {
            "text/plain": [
              "<Figure size 402.375x360 with 6 Axes>"
            ],
            "image/png": "[encoded data removed]"
          },
          "metadata": {
            "needs_background": "light"
          }
        }
      ]
    },
    {
      "cell_type": "markdown",
      "source": [
        "# Split data into train and test"
      ],
      "metadata": {
        "id": "xhvMLt66rCEM"
      }
    },
    {
      "cell_type": "code",
      "source": [
        "def split_data(X, y, fraction):\n",
        "    split = np.random.rand(X.shape[0]) > fraction\n",
        "\n",
        "    X_Train = X[split]\n",
        "    y_Train = y[split]\n",
        "    X_Test =  X[~split]\n",
        "    y_Test = y[~split]\n",
        "\n",
        "    return X_Train, y_Train, X_Test, y_Test"
      ],
      "metadata": {
        "id": "OpV-dXPrrBR2"
      },
      "execution_count": 55,
      "outputs": []
    },
    {
      "cell_type": "code",
      "source": [
        "X_Train, y_Train, X_Test, y_Test = split_data(data[['X1', 'X2']], data['Y'], fraction = 0.1)"
      ],
      "metadata": {
        "id": "tioEZhbjsbQX"
      },
      "execution_count": 56,
      "outputs": []
    },
    {
      "cell_type": "code",
      "source": [
        "X_Train.shape, y_Train.shape, X_Test.shape, y_Test.shape"
      ],
      "metadata": {
        "colab": {
          "base_uri": "https://localhost:8080/"
        },
        "id": "In4aroMVso5b",
        "outputId": "dff012f8-f2e1-435a-c359-e337e1a801e1"
      },
      "execution_count": 57,
      "outputs": [
        {
          "output_type": "execute_result",
          "data": {
            "text/plain": [
              "((359, 2), (359,), (41, 2), (41,))"
            ]
          },
          "metadata": {},
          "execution_count": 57
        }
      ]
    },
    {
      "cell_type": "markdown",
      "source": [
        "# Train Model"
      ],
      "metadata": {
        "id": "PnP5V1r6s0Mn"
      }
    },
    {
      "cell_type": "code",
      "source": [
        "model = MLPClassifier()\n",
        "model.fit(X_Train, y_Train)"
      ],
      "metadata": {
        "colab": {
          "base_uri": "https://localhost:8080/"
        },
        "id": "MP-2hfo9s9gT",
        "outputId": "5ffe1381-4e77-4792-a420-face2e5b038a"
      },
      "execution_count": 62,
      "outputs": [
        {
          "output_type": "stream",
          "name": "stderr",
          "text": [
            "/usr/local/lib/python3.7/dist-packages/sklearn/neural_network/_multilayer_perceptron.py:696: ConvergenceWarning: Stochastic Optimizer: Maximum iterations (200) reached and the optimization hasn't converged yet.\n",
            "  ConvergenceWarning,\n"
          ]
        },
        {
          "output_type": "execute_result",
          "data": {
            "text/plain": [
              "MLPClassifier()"
            ]
          },
          "metadata": {},
          "execution_count": 62
        }
      ]
    },
    {
      "cell_type": "markdown",
      "source": [
        "# Predict"
      ],
      "metadata": {
        "id": "XiCR0_I_J_QY"
      }
    },
    {
      "cell_type": "code",
      "source": [
        "predictions = model.predict(X_Test)"
      ],
      "metadata": {
        "id": "K3rWt1vvsxvr"
      },
      "execution_count": 28,
      "outputs": []
    },
    {
      "cell_type": "code",
      "source": [
        "pred_score = model.predict_proba(X_Test)"
      ],
      "metadata": {
        "id": "7ymySdkPniLx"
      },
      "execution_count": 29,
      "outputs": []
    },
    {
      "cell_type": "code",
      "source": [
        "print(accuracy_score(y_Test, predictions))"
      ],
      "metadata": {
        "colab": {
          "base_uri": "https://localhost:8080/"
        },
        "id": "ZlqXvy70wQ3R",
        "outputId": "cbeb2e51-6056-4776-e5bb-3ad09ea6715e"
      },
      "execution_count": 30,
      "outputs": [
        {
          "output_type": "stream",
          "name": "stdout",
          "text": [
            "0.9791666666666666\n"
          ]
        }
      ]
    },
    {
      "cell_type": "markdown",
      "source": [
        "# Cross-validation "
      ],
      "metadata": {
        "id": "Gp2XNM0m46de"
      }
    },
    {
      "cell_type": "code",
      "source": [
        "accuracy = cross_val_score(model, data[['X1', 'X2']], data['Y'], scoring='accuracy', cv = 10)\n",
        "print(accuracy)"
      ],
      "metadata": {
        "id": "m5bG_31h2duZ",
        "colab": {
          "base_uri": "https://localhost:8080/"
        },
        "outputId": "0e4b3a40-4587-4c9c-b2f4-4f8210e8de95"
      },
      "execution_count": 31,
      "outputs": [
        {
          "output_type": "stream",
          "name": "stderr",
          "text": [
            "/usr/local/lib/python3.7/dist-packages/sklearn/neural_network/_multilayer_perceptron.py:696: ConvergenceWarning: Stochastic Optimizer: Maximum iterations (200) reached and the optimization hasn't converged yet.\n",
            "  ConvergenceWarning,\n",
            "/usr/local/lib/python3.7/dist-packages/sklearn/neural_network/_multilayer_perceptron.py:696: ConvergenceWarning: Stochastic Optimizer: Maximum iterations (200) reached and the optimization hasn't converged yet.\n",
            "  ConvergenceWarning,\n",
            "/usr/local/lib/python3.7/dist-packages/sklearn/neural_network/_multilayer_perceptron.py:696: ConvergenceWarning: Stochastic Optimizer: Maximum iterations (200) reached and the optimization hasn't converged yet.\n",
            "  ConvergenceWarning,\n",
            "/usr/local/lib/python3.7/dist-packages/sklearn/neural_network/_multilayer_perceptron.py:696: ConvergenceWarning: Stochastic Optimizer: Maximum iterations (200) reached and the optimization hasn't converged yet.\n",
            "  ConvergenceWarning,\n",
            "/usr/local/lib/python3.7/dist-packages/sklearn/neural_network/_multilayer_perceptron.py:696: ConvergenceWarning: Stochastic Optimizer: Maximum iterations (200) reached and the optimization hasn't converged yet.\n",
            "  ConvergenceWarning,\n",
            "/usr/local/lib/python3.7/dist-packages/sklearn/neural_network/_multilayer_perceptron.py:696: ConvergenceWarning: Stochastic Optimizer: Maximum iterations (200) reached and the optimization hasn't converged yet.\n",
            "  ConvergenceWarning,\n",
            "/usr/local/lib/python3.7/dist-packages/sklearn/neural_network/_multilayer_perceptron.py:696: ConvergenceWarning: Stochastic Optimizer: Maximum iterations (200) reached and the optimization hasn't converged yet.\n",
            "  ConvergenceWarning,\n",
            "/usr/local/lib/python3.7/dist-packages/sklearn/neural_network/_multilayer_perceptron.py:696: ConvergenceWarning: Stochastic Optimizer: Maximum iterations (200) reached and the optimization hasn't converged yet.\n",
            "  ConvergenceWarning,\n",
            "/usr/local/lib/python3.7/dist-packages/sklearn/neural_network/_multilayer_perceptron.py:696: ConvergenceWarning: Stochastic Optimizer: Maximum iterations (200) reached and the optimization hasn't converged yet.\n",
            "  ConvergenceWarning,\n"
          ]
        },
        {
          "output_type": "stream",
          "name": "stdout",
          "text": [
            "[0.975 0.95  1.    1.    1.    1.    1.    1.    1.    0.95 ]\n"
          ]
        },
        {
          "output_type": "stream",
          "name": "stderr",
          "text": [
            "/usr/local/lib/python3.7/dist-packages/sklearn/neural_network/_multilayer_perceptron.py:696: ConvergenceWarning: Stochastic Optimizer: Maximum iterations (200) reached and the optimization hasn't converged yet.\n",
            "  ConvergenceWarning,\n"
          ]
        }
      ]
    },
    {
      "cell_type": "code",
      "source": [
        "print(accuracy.mean())"
      ],
      "metadata": {
        "colab": {
          "base_uri": "https://localhost:8080/"
        },
        "id": "Gd9KCRV-K74a",
        "outputId": "b00316e1-80cd-4553-b6b9-45f4c08db639"
      },
      "execution_count": 33,
      "outputs": [
        {
          "output_type": "stream",
          "name": "stdout",
          "text": [
            "0.9875\n"
          ]
        }
      ]
    },
    {
      "cell_type": "markdown",
      "source": [
        "# Evaluation\n",
        "\n",
        "• confusion matrix\n",
        "\n",
        "• precision\n",
        "\n",
        "• recall\n",
        "\n",
        "• F1 score\n",
        "\n",
        "• побудувати криву точностi-повноти (precision-recall (PR) curve), ROC-криву, показник AUC."
      ],
      "metadata": {
        "id": "Q01igap1hAmQ"
      }
    },
    {
      "cell_type": "code",
      "source": [
        "cm = confusion_matrix(y_Test, predictions, labels=model.classes_)\n",
        "disp = ConfusionMatrixDisplay(confusion_matrix=cm,display_labels=model.classes_)\n",
        "disp.plot()\n",
        "plt.show()"
      ],
      "metadata": {
        "colab": {
          "base_uri": "https://localhost:8080/",
          "height": 283
        },
        "id": "Y504HaMhhS8b",
        "outputId": "707c1668-caed-48f1-8bab-54c930f9ccb8"
      },
      "execution_count": 37,
      "outputs": [
        {
          "output_type": "display_data",
          "data": {
            "text/plain": [
              "<Figure size 432x288 with 2 Axes>"
            ],
            "image/png": "[encoded data removed]"
          },
          "metadata": {
            "needs_background": "light"
          }
        }
      ]
    },
    {
      "cell_type": "code",
      "source": [
        "print(classification_report(y_Test, predictions))"
      ],
      "metadata": {
        "colab": {
          "base_uri": "https://localhost:8080/"
        },
        "id": "7CHeP4C8ldRR",
        "outputId": "361e487e-b4eb-482a-926c-181347ab4b08"
      },
      "execution_count": 38,
      "outputs": [
        {
          "output_type": "stream",
          "name": "stdout",
          "text": [
            "              precision    recall  f1-score   support\n",
            "\n",
            "           0       1.00      0.90      0.95        10\n",
            "           1       1.00      1.00      1.00        13\n",
            "           2       1.00      1.00      1.00        14\n",
            "           3       0.92      1.00      0.96        11\n",
            "\n",
            "    accuracy                           0.98        48\n",
            "   macro avg       0.98      0.97      0.98        48\n",
            "weighted avg       0.98      0.98      0.98        48\n",
            "\n"
          ]
        }
      ]
    },
    {
      "cell_type": "code",
      "source": [
        "encoder = OneHotEncoder(sparse=False)\n",
        "y_test = encoder.fit_transform(np.array(y_Test).reshape(-1, 1))"
      ],
      "metadata": {
        "id": "RgUX495_tqJY"
      },
      "execution_count": 39,
      "outputs": []
    },
    {
      "cell_type": "code",
      "source": [
        "precision = dict()\n",
        "recall = dict()\n",
        "n_classes=4\n",
        "average_precision = dict()\n",
        "for i in range(n_classes):\n",
        "    precision[i], recall[i], _ = precision_recall_curve(y_test[:, i], pred_score[:, i])\n",
        "    average_precision[i] = average_precision_score(y_test[:, i], pred_score[:, i])\n",
        "\n",
        "precision[\"micro\"], recall[\"micro\"], _ = precision_recall_curve(\n",
        "    y_test.ravel(), pred_score.ravel()\n",
        ")\n",
        "average_precision[\"micro\"] = average_precision_score(y_test, pred_score, average=\"micro\")\n",
        "\n",
        "\n",
        "display = PrecisionRecallDisplay(\n",
        "    recall=recall[\"micro\"],\n",
        "    precision=precision[\"micro\"],\n",
        "    average_precision=average_precision[\"micro\"],\n",
        ")\n",
        "display.plot()"
      ],
      "metadata": {
        "colab": {
          "base_uri": "https://localhost:8080/",
          "height": 296
        },
        "id": "xr7utdjYwc5u",
        "outputId": "43396c77-b6a4-4ad5-c256-d75fb5915e73"
      },
      "execution_count": 40,
      "outputs": [
        {
          "output_type": "execute_result",
          "data": {
            "text/plain": [
              "<sklearn.metrics._plot.precision_recall_curve.PrecisionRecallDisplay at 0x7f257e90e350>"
            ]
          },
          "metadata": {},
          "execution_count": 40
        },
        {
          "output_type": "display_data",
          "data": {
            "text/plain": [
              "<Figure size 432x288 with 1 Axes>"
            ],
            "image/png": "[encoded data removed]"
          },
          "metadata": {
            "needs_background": "light"
          }
        }
      ]
    },
    {
      "cell_type": "code",
      "source": [
        "_ = display.ax_.set_title(\"Micro-averaged over all classes\")\n",
        "\n",
        "colors = cycle([\"navy\", \"turquoise\", \"darkorange\", \"cornflowerblue\", \"teal\"])\n",
        "\n",
        "_, ax = plt.subplots(figsize=(7, 8))\n",
        "\n",
        "f_scores = np.linspace(0.2, 0.8, num=4)\n",
        "lines, labels = [], []\n",
        "for f_score in f_scores:\n",
        "    x = np.linspace(0.01, 1)\n",
        "    y = f_score * x / (2 * x - f_score)\n",
        "    (l,) = plt.plot(x[y >= 0], y[y >= 0], color=\"gray\", alpha=0.2)\n",
        "    plt.annotate(\"f1={0:0.1f}\".format(f_score), xy=(0.9, y[45] + 0.02))\n",
        "\n",
        "display = PrecisionRecallDisplay(\n",
        "    recall=recall[\"micro\"],\n",
        "    precision=precision[\"micro\"],\n",
        "    average_precision=average_precision[\"micro\"],\n",
        ")\n",
        "display.plot(ax=ax, name=\"Micro-average precision-recall\", color=\"gold\")\n",
        "\n",
        "for i, color in zip(range(n_classes), colors):\n",
        "    display = PrecisionRecallDisplay(\n",
        "        recall=recall[i],\n",
        "        precision=precision[i],\n",
        "        average_precision=average_precision[i],\n",
        "    )\n",
        "    display.plot(ax=ax, name=f\"Precision-recall for class {i}\", color=color)\n",
        "\n",
        "\n",
        "handles, labels = display.ax_.get_legend_handles_labels()\n",
        "handles.extend([l])\n",
        "labels.extend([\"iso-f1 curves\"])\n",
        "\n",
        "ax.set_xlim([0.0, 1.0])\n",
        "ax.set_ylim([0.0, 1.05])\n",
        "ax.legend(handles=handles, labels=labels, loc=\"best\")\n",
        "ax.set_title(\"Extension of Precision-Recall curve to multi-class\")\n",
        "\n",
        "plt.show()"
      ],
      "metadata": {
        "colab": {
          "base_uri": "https://localhost:8080/",
          "height": 513
        },
        "id": "wkrtz9-gycyR",
        "outputId": "b7fa5cc6-8cc3-430f-ae2c-726a8dedbb04"
      },
      "execution_count": 41,
      "outputs": [
        {
          "output_type": "display_data",
          "data": {
            "text/plain": [
              "<Figure size 504x576 with 1 Axes>"
            ],
            "image/png": "[encoded data removed]"
          },
          "metadata": {
            "needs_background": "light"
          }
        }
      ]
    },
    {
      "cell_type": "code",
      "source": [
        "def calculate_tpr_fpr(y_real, y_pred):\n",
        "    \n",
        "    cm = confusion_matrix(y_real, y_pred)\n",
        "    TN = cm[0, 0]\n",
        "    FP = cm[0, 1]\n",
        "    FN = cm[1, 0]\n",
        "    TP = cm[1, 1]\n",
        "    \n",
        "    tpr =  TP/(TP + FN) \n",
        "    fpr = 1 - TN/(TN+FP) \n",
        "    \n",
        "    return tpr, fpr\n",
        "\n",
        "def get_all_roc_coordinates(y_real, y_proba):\n",
        "    tpr_list = [0]\n",
        "    fpr_list = [0]\n",
        "    for i in range(len(y_proba)):\n",
        "        threshold = y_proba[i]\n",
        "        y_pred = y_proba >= threshold\n",
        "        tpr, fpr = calculate_tpr_fpr(y_real, y_pred)\n",
        "        tpr_list.append(tpr)\n",
        "        fpr_list.append(fpr)\n",
        "    return tpr_list, fpr_list\n",
        "\n",
        "def plot_roc_curve(tpr, fpr, scatter = True, ax = None):\n",
        "    if ax == None:\n",
        "        plt.figure(figsize = (5, 5))\n",
        "        ax = plt.axes()\n",
        "    \n",
        "    if scatter:\n",
        "        sns.scatterplot(x = fpr, y = tpr, ax = ax)\n",
        "    sns.lineplot(x = fpr, y = tpr, ax = ax)\n",
        "    sns.lineplot(x = [0, 1], y = [0, 1], color = 'green', ax = ax)\n",
        "    plt.xlim(-0.05, 1.05)\n",
        "    plt.ylim(-0.05, 1.05)\n",
        "    plt.xlabel(\"False Positive Rate\")\n",
        "    plt.ylabel(\"True Positive Rate\")"
      ],
      "metadata": {
        "id": "nwErIUNosnpT"
      },
      "execution_count": 42,
      "outputs": []
    },
    {
      "cell_type": "code",
      "source": [
        "classes = model.classes_\n",
        "\n",
        "plt.figure(figsize = (12, 8))\n",
        "bins = [i/20 for i in range(20)] + [1]\n",
        "roc_auc_ovr = {}\n",
        "\n",
        "for i in range(len(classes)):\n",
        "    c = classes[i]\n",
        "    \n",
        "    df_aux = X_Test.copy()\n",
        "    df_aux['class'] = [1 if y == c else 0 for y in y_Test]\n",
        "    df_aux['prob'] = pred_score[:, i]\n",
        "    df_aux = df_aux.reset_index(drop = True)\n",
        "\n",
        "    ax = plt.subplot(2, 4, i+1)\n",
        "    sns.histplot(x = \"prob\", data = df_aux, hue = 'class', color = 'b', ax = ax, bins = bins)\n",
        "    ax.set_title(c)\n",
        "    ax.legend([f\"Class: {c}\", \"Rest\"])\n",
        "    ax.set_xlabel(f\"P(x = {c})\")\n",
        "\n",
        "    ax_bottom = plt.subplot(2, 4, i+5)\n",
        "    tpr, fpr = get_all_roc_coordinates(df_aux['class'], df_aux['prob'])\n",
        "    plot_roc_curve(tpr, fpr, scatter = False, ax = ax_bottom)\n",
        "    ax_bottom.set_title(\"ROC Curve OvR\")\n",
        "    \n",
        "    roc_auc_ovr[c] = roc_auc_score(df_aux['class'], df_aux['prob'])\n",
        "    \n",
        "plt.tight_layout()"
      ],
      "metadata": {
        "colab": {
          "base_uri": "https://localhost:8080/",
          "height": 585
        },
        "id": "kqq8QlPNq1GT",
        "outputId": "8063110b-3b03-41a7-ec80-d33b454c88ae"
      },
      "execution_count": 43,
      "outputs": [
        {
          "output_type": "display_data",
          "data": {
            "text/plain": [
              "<Figure size 864x576 with 8 Axes>"
            ],
            "image/png": "[encoded data removed]"
          },
          "metadata": {
            "needs_background": "light"
          }
        }
      ]
    },
    {
      "cell_type": "code",
      "source": [
        "avg_roc_auc = 0\n",
        "i = 0\n",
        "for k in roc_auc_ovr:\n",
        "    avg_roc_auc += roc_auc_ovr[k]\n",
        "    i += 1\n",
        "    print(f\"{k} ROC AUC OvR: {roc_auc_ovr[k]:.4f}\")\n",
        "print(f\"average ROC AUC OvR: {avg_roc_auc/i:.4f}\")"
      ],
      "metadata": {
        "colab": {
          "base_uri": "https://localhost:8080/"
        },
        "id": "5D2UcEvL2Wn4",
        "outputId": "7172c680-e222-406e-e406-937da1f3be1c"
      },
      "execution_count": 44,
      "outputs": [
        {
          "output_type": "stream",
          "name": "stdout",
          "text": [
            "0 ROC AUC OvR: 1.0000\n",
            "1 ROC AUC OvR: 1.0000\n",
            "2 ROC AUC OvR: 1.0000\n",
            "3 ROC AUC OvR: 1.0000\n",
            "average ROC AUC OvR: 1.0000\n"
          ]
        }
      ]
    },
    {
      "cell_type": "code",
      "source": [
        "roc_auc_score(y_Test, pred_score, labels = classes, multi_class = 'ovr', average = 'macro')"
      ],
      "metadata": {
        "colab": {
          "base_uri": "https://localhost:8080/"
        },
        "id": "uv1ffTlW2Zjs",
        "outputId": "9c7fb2bf-ad31-4bcb-f7ee-02fb701ec603"
      },
      "execution_count": 45,
      "outputs": [
        {
          "output_type": "execute_result",
          "data": {
            "text/plain": [
              "1.0"
            ]
          },
          "metadata": {},
          "execution_count": 45
        }
      ]
    },
    {
      "cell_type": "markdown",
      "source": [
        "# Grid Search"
      ],
      "metadata": {
        "id": "fH8fzH5ibe5R"
      }
    },
    {
      "cell_type": "code",
      "source": [
        "mlp_gs = MLPClassifier(max_iter=100)\n",
        "\n",
        "parameter_space = {\n",
        "    'hidden_layer_sizes': [(10,30,10),(20,)],\n",
        "    'activation': ['tanh', 'relu'],\n",
        "    'solver': ['sgd', 'adam'],\n",
        "    'alpha': [0.0001, 0.05],\n",
        "    'learning_rate': ['constant','adaptive'],\n",
        "}\n",
        "\n",
        "clf = GridSearchCV(mlp_gs, parameter_space, n_jobs=-1, cv=5)\n",
        "clf.fit(X_Train, y_Train)"
      ],
      "metadata": {
        "id": "Zvrw6FJnUThc",
        "outputId": "d5387e9c-f16f-46eb-d3d0-20de6d3b51b3",
        "colab": {
          "base_uri": "https://localhost:8080/"
        }
      },
      "execution_count": 63,
      "outputs": [
        {
          "output_type": "stream",
          "name": "stderr",
          "text": [
            "/usr/local/lib/python3.7/dist-packages/sklearn/neural_network/_multilayer_perceptron.py:696: ConvergenceWarning: Stochastic Optimizer: Maximum iterations (100) reached and the optimization hasn't converged yet.\n",
            "  ConvergenceWarning,\n"
          ]
        },
        {
          "output_type": "execute_result",
          "data": {
            "text/plain": [
              "GridSearchCV(cv=5, estimator=MLPClassifier(max_iter=100), n_jobs=-1,\n",
              "             param_grid={'activation': ['tanh', 'relu'],\n",
              "                         'alpha': [0.0001, 0.05],\n",
              "                         'hidden_layer_sizes': [(10, 30, 10), (20,)],\n",
              "                         'learning_rate': ['constant', 'adaptive'],\n",
              "                         'solver': ['sgd', 'adam']})"
            ]
          },
          "metadata": {},
          "execution_count": 63
        }
      ]
    },
    {
      "cell_type": "code",
      "source": [
        "print('Best parameters found:\\n', clf.best_params_)"
      ],
      "metadata": {
        "id": "GsOQfcSLcisf",
        "outputId": "eb47352c-0c97-4478-9fbc-7965fea05028",
        "colab": {
          "base_uri": "https://localhost:8080/"
        }
      },
      "execution_count": 64,
      "outputs": [
        {
          "output_type": "stream",
          "name": "stdout",
          "text": [
            "Best parameters found:\n",
            " {'activation': 'tanh', 'alpha': 0.05, 'hidden_layer_sizes': (10, 30, 10), 'learning_rate': 'adaptive', 'solver': 'adam'}\n"
          ]
        }
      ]
    },
    {
      "cell_type": "markdown",
      "source": [
        "# Best model"
      ],
      "metadata": {
        "id": "p0N6WdY4bx9T"
      }
    },
    {
      "cell_type": "code",
      "source": [
        "param_grid={'activation': 'tanh', 'alpha': 0.05, 'hidden_layer_sizes': (10, 30, 10), 'learning_rate': 'adaptive', 'solver': 'adam'}"
      ],
      "metadata": {
        "id": "hunjXZYQb3-B"
      },
      "execution_count": 65,
      "outputs": []
    },
    {
      "cell_type": "code",
      "source": [
        "best_model = MLPClassifier(param_grid)"
      ],
      "metadata": {
        "id": "ii7YDjhrb6Yi"
      },
      "execution_count": 70,
      "outputs": []
    },
    {
      "cell_type": "code",
      "source": [
        "best_model"
      ],
      "metadata": {
        "id": "mN_Mtp76d2Ta",
        "outputId": "f5c9391b-8775-494f-a432-3b5d6b75e7b4",
        "colab": {
          "base_uri": "https://localhost:8080/"
        }
      },
      "execution_count": 69,
      "outputs": [
        {
          "output_type": "execute_result",
          "data": {
            "text/plain": [
              "MLPClassifier(hidden_layer_sizes={'activation': 'tanh', 'alpha': 0.05,\n",
              "                                  'hidden_layer_sizes': (10, 30, 10),\n",
              "                                  'learning_rate': 'adaptive',\n",
              "                                  'solver': 'adam'})"
            ]
          },
          "metadata": {},
          "execution_count": 69
        }
      ]
    },
    {
      "cell_type": "code",
      "source": [
        "best_model.fit(X_Train, y_Train)"
      ],
      "metadata": {
        "id": "JBoLBC7odAiD",
        "outputId": "e77e198f-041d-41d6-cb11-a6cc7cc6317e",
        "colab": {
          "base_uri": "https://localhost:8080/"
        }
      },
      "execution_count": 71,
      "outputs": [
        {
          "output_type": "stream",
          "name": "stderr",
          "text": [
            "/usr/local/lib/python3.7/dist-packages/sklearn/neural_network/_multilayer_perceptron.py:696: ConvergenceWarning: Stochastic Optimizer: Maximum iterations (200) reached and the optimization hasn't converged yet.\n",
            "  ConvergenceWarning,\n"
          ]
        },
        {
          "output_type": "execute_result",
          "data": {
            "text/plain": [
              "MLPClassifier()"
            ]
          },
          "metadata": {},
          "execution_count": 71
        }
      ]
    },
    {
      "cell_type": "code",
      "source": [
        "predictions = best_model.predict(X_Test)"
      ],
      "metadata": {
        "id": "Q5gzKbAYcKfw"
      },
      "execution_count": 72,
      "outputs": []
    },
    {
      "cell_type": "code",
      "source": [
        "print(accuracy_score(y_Test, predictions))"
      ],
      "metadata": {
        "id": "M1PuJngGcKvG",
        "outputId": "fd4d7088-2a1d-40ed-e958-1c6b4c5f280a",
        "colab": {
          "base_uri": "https://localhost:8080/"
        }
      },
      "execution_count": 73,
      "outputs": [
        {
          "output_type": "stream",
          "name": "stdout",
          "text": [
            "1.0\n"
          ]
        }
      ]
    },
    {
      "cell_type": "code",
      "source": [
        "print(classification_report(y_Test, predictions))"
      ],
      "metadata": {
        "id": "CslzRczleQWg",
        "outputId": "a29b4e38-cff4-4ac0-c194-d8b1db0093f2",
        "colab": {
          "base_uri": "https://localhost:8080/"
        }
      },
      "execution_count": 74,
      "outputs": [
        {
          "output_type": "stream",
          "name": "stdout",
          "text": [
            "              precision    recall  f1-score   support\n",
            "\n",
            "           0       1.00      1.00      1.00         9\n",
            "           1       1.00      1.00      1.00         6\n",
            "           2       1.00      1.00      1.00        11\n",
            "           3       1.00      1.00      1.00        15\n",
            "\n",
            "    accuracy                           1.00        41\n",
            "   macro avg       1.00      1.00      1.00        41\n",
            "weighted avg       1.00      1.00      1.00        41\n",
            "\n"
          ]
        }
      ]
    }
  ]
}