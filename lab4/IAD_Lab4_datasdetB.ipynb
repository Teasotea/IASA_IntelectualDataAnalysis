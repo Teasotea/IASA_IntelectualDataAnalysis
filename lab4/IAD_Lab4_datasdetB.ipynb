{
  "cells": [
    {
      "cell_type": "markdown",
      "metadata": {
        "id": "WfrvHokOWefm"
      },
      "source": [
        "# Лабораторна робота №4: Кластеризацiя засобами бiблiотеки Scikit-Learn Python\n",
        "Варіант 24\n",
        "\n",
        "### Звiт має мiстити:\n",
        "• Результати по кожному пункту ходу виконання роботи, в тому числi\n",
        "порiвняльний аналiз кiлькох моделей,\n",
        "\n",
        "• Опис методу кластеризацiї, який використовувався,\n",
        "\n",
        "• Опис метрик якостi кластеризацiї, за якими порiвнювалися моделi.\n",
        "\n",
        "Бажано опрацювати матерiал https://scikit-learn.org/stable/modules/clustering.html. За цим посиланням є описи методiв кластеризацiї, якi не увiйшли до\n",
        "лекцiй, приклади використання методiв, опис метрик якостi. Заданi за варiантом набори даних розглядати без еталонних значень цiльової змiнної пiд час виконання кластеризацiї даних. Еталоннi значення цiльової змiнної можуть бути використанi при розрахунку окремих метрик якостi кластеризацiї.\n",
        "\n",
        "### Хiд виконання роботи:\n",
        "\n",
        "1. Представити початковi данi графiчно.\n",
        "2. Побудувати модель кластеризацiї згiдно з варiантом.\n",
        "3. Виконати кластеризацiю даних на основi моделi.\n",
        "4. Представити розбиття на кластери графiчно, наприклад, рiзними кольорами.\n",
        "5. Розрахувати час кластеризацiї. Оцiнити швидкодiю методу на надвеликих наборах даних (наприклад, при збiльшеннi кiлькостi точок даних до мiльйона).\n",
        "\n",
        "6. Побудувати кiлька альтернативних моделей:\n",
        "\n",
        "• шляхом змiни значень параметрiв основної моделi,\n",
        "\n",
        "• використати рiзнi функцiї вiдстанi в алгоритмах, де це можна зробити,\n",
        "\n",
        "• задати рiзнi значення кiлькостi кластерiв, в алгоритмах де кiлькiсть\n",
        "кластерiв - параметр.\n",
        "\n",
        "7. Для кожної альтернативної моделi розрахувати метрики якостi кластеризацiї, що реалiзованi в модулi sklearn.metrics (тiльки метрики згiдно з варiантом)\n",
        "\n",
        "8. Виконати аналiз результатiв кластеризацiї одним з неформальних методiв (тiльки методом згiдно з варiантом):\n",
        "\n",
        "9. Зробити висновки про якiсть роботи моделей на дослiджених даних та\n",
        "про швидкодiю методу.\n",
        "\n",
        "10. Оцiнити результати кластеризацiї на основi метрик якостi та на основi\n",
        "неформальних методiв. У кожному варiантi задано два набори даних. Спробувати пiдiбрати найкращу модель кластеризацiї для кожного набору даних.\n",
        "\n",
        "## Завдання\n",
        "\n",
        "Алгоритм k-середнiх, використати `cluster.KMeans` i `cluster.MiniBatchKMeans`.\n",
        "Вiдобразити графiчно центри кластерiв.\n",
        "\n",
        "Метрики якостi: `Adjusted Rand Index`, `Calinski-Harabasz Index`, `Davies-\n",
        "Bouldin index`.\n",
        "\n",
        "Чи є розбиття стабiльним на пiдвибiрках даних?"
      ]
    },
    {
      "cell_type": "markdown",
      "metadata": {
        "id": "Vk9XS1DkewGj"
      },
      "source": [
        "# Import Libraries & Load Data"
      ]
    },
    {
      "cell_type": "code",
      "execution_count": 5,
      "metadata": {
        "id": "TzHetp2qP2WV"
      },
      "outputs": [],
      "source": [
        "import numpy as np\n",
        "import pandas as pd\n",
        "import matplotlib.pyplot as plt\n",
        "import seaborn as sns\n",
        "\n",
        "from sklearn.datasets import make_blobs\n",
        "from sklearn.cluster import KMeans\n",
        "from sklearn.cluster import MiniBatchKMeans\n",
        "from sklearn import metrics\n"
      ]
    },
    {
      "cell_type": "code",
      "execution_count": 6,
      "metadata": {
        "id": "G8yISnohe12V"
      },
      "outputs": [],
      "source": [
        "# dataset B\n",
        "X, y = make_blobs(n_samples =500000, n_features =2, centers = 4, cluster_std =1, center_box = (-10.0, 10.0), shuffle=True, random_state=1)"
      ]
    },
    {
      "cell_type": "code",
      "execution_count": 9,
      "metadata": {
        "id": "KH_yyBPLgeG3"
      },
      "outputs": [],
      "source": [
        "X = pd.DataFrame(X)\n",
        "Y = pd.DataFrame(y)"
      ]
    },
    {
      "cell_type": "code",
      "execution_count": 10,
      "metadata": {
        "colab": {
          "base_uri": "https://localhost:8080/"
        },
        "id": "rbVJlbvekT6B",
        "outputId": "236849b5-554f-490c-e721-7e0f3d16a38e"
      },
      "outputs": [
        {
          "output_type": "execute_result",
          "data": {
            "text/plain": [
              "((500000, 2), (500000, 1))"
            ]
          },
          "metadata": {},
          "execution_count": 10
        }
      ],
      "source": [
        "X.shape, Y.shape"
      ]
    },
    {
      "cell_type": "code",
      "execution_count": 11,
      "metadata": {
        "colab": {
          "base_uri": "https://localhost:8080/",
          "height": 206
        },
        "id": "-sWOcN5ilkUp",
        "outputId": "b7f2daa3-933a-4d34-c370-48c8e67da2f7"
      },
      "outputs": [
        {
          "output_type": "execute_result",
          "data": {
            "text/plain": [
              "          X1        X2  Y\n",
              "0  -7.294331 -6.922687  2\n",
              "1 -10.647957 -3.451678  1\n",
              "2  -0.818845  4.619141  0\n",
              "3  -2.335107  4.446468  0\n",
              "4  -8.661715 -9.028145  2"
            ],
            "text/html": [
              "\n",
              "  <div id=\"df-29435c18-1b43-4dbb-95ac-2ae31fe9d43f\">\n",
              "    <div class=\"colab-df-container\">\n",
              "      <div>\n",
              "<style scoped>\n",
              "    .dataframe tbody tr th:only-of-type {\n",
              "        vertical-align: middle;\n",
              "    }\n",
              "\n",
              "    .dataframe tbody tr th {\n",
              "        vertical-align: top;\n",
              "    }\n",
              "\n",
              "    .dataframe thead th {\n",
              "        text-align: right;\n",
              "    }\n",
              "</style>\n",
              "<table border=\"1\" class=\"dataframe\">\n",
              "  <thead>\n",
              "    <tr style=\"text-align: right;\">\n",
              "      <th></th>\n",
              "      <th>X1</th>\n",
              "      <th>X2</th>\n",
              "      <th>Y</th>\n",
              "    </tr>\n",
              "  </thead>\n",
              "  <tbody>\n",
              "    <tr>\n",
              "      <th>0</th>\n",
              "      <td>-7.294331</td>\n",
              "      <td>-6.922687</td>\n",
              "      <td>2</td>\n",
              "    </tr>\n",
              "    <tr>\n",
              "      <th>1</th>\n",
              "      <td>-10.647957</td>\n",
              "      <td>-3.451678</td>\n",
              "      <td>1</td>\n",
              "    </tr>\n",
              "    <tr>\n",
              "      <th>2</th>\n",
              "      <td>-0.818845</td>\n",
              "      <td>4.619141</td>\n",
              "      <td>0</td>\n",
              "    </tr>\n",
              "    <tr>\n",
              "      <th>3</th>\n",
              "      <td>-2.335107</td>\n",
              "      <td>4.446468</td>\n",
              "      <td>0</td>\n",
              "    </tr>\n",
              "    <tr>\n",
              "      <th>4</th>\n",
              "      <td>-8.661715</td>\n",
              "      <td>-9.028145</td>\n",
              "      <td>2</td>\n",
              "    </tr>\n",
              "  </tbody>\n",
              "</table>\n",
              "</div>\n",
              "      <button class=\"colab-df-convert\" onclick=\"convertToInteractive('df-29435c18-1b43-4dbb-95ac-2ae31fe9d43f')\"\n",
              "              title=\"Convert this dataframe to an interactive table.\"\n",
              "              style=\"display:none;\">\n",
              "        \n",
              "  <svg xmlns=\"http://www.w3.org/2000/svg\" height=\"24px\"viewBox=\"0 0 24 24\"\n",
              "       width=\"24px\">\n",
              "    <path d=\"M0 0h24v24H0V0z\" fill=\"none\"/>\n",
              "    <path d=\"M18.56 5.44l.94 2.06.94-2.06 2.06-.94-2.06-.94-.94-2.06-.94 2.06-2.06.94zm-11 1L8.5 8.5l.94-2.06 2.06-.94-2.06-.94L8.5 2.5l-.94 2.06-2.06.94zm10 10l.94 2.06.94-2.06 2.06-.94-2.06-.94-.94-2.06-.94 2.06-2.06.94z\"/><path d=\"M17.41 7.96l-1.37-1.37c-.4-.4-.92-.59-1.43-.59-.52 0-1.04.2-1.43.59L10.3 9.45l-7.72 7.72c-.78.78-.78 2.05 0 2.83L4 21.41c.39.39.9.59 1.41.59.51 0 1.02-.2 1.41-.59l7.78-7.78 2.81-2.81c.8-.78.8-2.07 0-2.86zM5.41 20L4 18.59l7.72-7.72 1.47 1.35L5.41 20z\"/>\n",
              "  </svg>\n",
              "      </button>\n",
              "      \n",
              "  <style>\n",
              "    .colab-df-container {\n",
              "      display:flex;\n",
              "      flex-wrap:wrap;\n",
              "      gap: 12px;\n",
              "    }\n",
              "\n",
              "    .colab-df-convert {\n",
              "      background-color: #E8F0FE;\n",
              "      border: none;\n",
              "      border-radius: 50%;\n",
              "      cursor: pointer;\n",
              "      display: none;\n",
              "      fill: #1967D2;\n",
              "      height: 32px;\n",
              "      padding: 0 0 0 0;\n",
              "      width: 32px;\n",
              "    }\n",
              "\n",
              "    .colab-df-convert:hover {\n",
              "      background-color: #E2EBFA;\n",
              "      box-shadow: 0px 1px 2px rgba(60, 64, 67, 0.3), 0px 1px 3px 1px rgba(60, 64, 67, 0.15);\n",
              "      fill: #174EA6;\n",
              "    }\n",
              "\n",
              "    [theme=dark] .colab-df-convert {\n",
              "      background-color: #3B4455;\n",
              "      fill: #D2E3FC;\n",
              "    }\n",
              "\n",
              "    [theme=dark] .colab-df-convert:hover {\n",
              "      background-color: #434B5C;\n",
              "      box-shadow: 0px 1px 3px 1px rgba(0, 0, 0, 0.15);\n",
              "      filter: drop-shadow(0px 1px 2px rgba(0, 0, 0, 0.3));\n",
              "      fill: #FFFFFF;\n",
              "    }\n",
              "  </style>\n",
              "\n",
              "      <script>\n",
              "        const buttonEl =\n",
              "          document.querySelector('#df-29435c18-1b43-4dbb-95ac-2ae31fe9d43f button.colab-df-convert');\n",
              "        buttonEl.style.display =\n",
              "          google.colab.kernel.accessAllowed ? 'block' : 'none';\n",
              "\n",
              "        async function convertToInteractive(key) {\n",
              "          const element = document.querySelector('#df-29435c18-1b43-4dbb-95ac-2ae31fe9d43f');\n",
              "          const dataTable =\n",
              "            await google.colab.kernel.invokeFunction('convertToInteractive',\n",
              "                                                     [key], {});\n",
              "          if (!dataTable) return;\n",
              "\n",
              "          const docLinkHtml = 'Like what you see? Visit the ' +\n",
              "            '<a target=\"_blank\" href=https://colab.research.google.com/notebooks/data_table.ipynb>data table notebook</a>'\n",
              "            + ' to learn more about interactive tables.';\n",
              "          element.innerHTML = '';\n",
              "          dataTable['output_type'] = 'display_data';\n",
              "          await google.colab.output.renderOutput(dataTable, element);\n",
              "          const docLink = document.createElement('div');\n",
              "          docLink.innerHTML = docLinkHtml;\n",
              "          element.appendChild(docLink);\n",
              "        }\n",
              "      </script>\n",
              "    </div>\n",
              "  </div>\n",
              "  "
            ]
          },
          "metadata": {},
          "execution_count": 11
        }
      ],
      "source": [
        "data = pd.concat([X,Y], axis=1, join=\"inner\")\n",
        "data.columns = ['X1','X2','Y']\n",
        "data.head()"
      ]
    },
    {
      "cell_type": "code",
      "source": [
        "data[\"Y\"].value_counts()"
      ],
      "metadata": {
        "colab": {
          "base_uri": "https://localhost:8080/"
        },
        "id": "jSObdZQdCDch",
        "outputId": "ccf93a7f-c05b-4bd3-819e-a8fdf5e81874"
      },
      "execution_count": 18,
      "outputs": [
        {
          "output_type": "execute_result",
          "data": {
            "text/plain": [
              "2    125000\n",
              "1    125000\n",
              "0    125000\n",
              "3    125000\n",
              "Name: Y, dtype: int64"
            ]
          },
          "metadata": {},
          "execution_count": 18
        }
      ]
    },
    {
      "cell_type": "markdown",
      "metadata": {
        "id": "OwAK36AriNTJ"
      },
      "source": [
        "# Exploratory Data Analysis (Data Visualization)"
      ]
    },
    {
      "cell_type": "code",
      "execution_count": 12,
      "metadata": {
        "colab": {
          "base_uri": "https://localhost:8080/",
          "height": 248
        },
        "id": "XAIHRm77kZHE",
        "outputId": "b26a4805-46b7-42f0-ba7a-5c0c572da97c"
      },
      "outputs": [
        {
          "output_type": "display_data",
          "data": {
            "text/plain": [
              "<Figure size 432x288 with 1 Axes>"
            ],
            "image/png": "[encoded data removed]"
          },
          "metadata": {
            "needs_background": "light"
          }
        }
      ],
      "source": [
        "fig = plt.figure()\n",
        "ax = plt.axes(projection='3d')\n",
        "ax.scatter3D(data['X1'].to_numpy(), data['X2'].to_numpy(), data['Y'].to_numpy(), c=\"b\")\n",
        "ax.set_xlabel('X1')\n",
        "ax.set_ylabel('X2')\n",
        "ax.set_zlabel('Y')\n",
        "ax.view_init(elev=30, azim = 30)\n",
        "plt.show()"
      ]
    },
    {
      "cell_type": "code",
      "execution_count": 13,
      "metadata": {
        "colab": {
          "base_uri": "https://localhost:8080/",
          "height": 300
        },
        "id": "E8dxm3LloMH0",
        "outputId": "a96fc5a1-cf2a-44c4-94d1-b33395ec2ac4"
      },
      "outputs": [
        {
          "output_type": "execute_result",
          "data": {
            "text/plain": [
              "                  X1             X2              Y\n",
              "count  500000.000000  500000.000000  500000.000000\n",
              "mean       -6.247963      -2.697189       1.500000\n",
              "std         3.155491       4.635964       1.118035\n",
              "min       -14.628821     -12.545179       0.000000\n",
              "25%        -8.568511      -6.077465       0.750000\n",
              "50%        -6.666821      -3.523364       1.500000\n",
              "75%        -3.948932       0.607066       2.250000\n",
              "max         2.871343       8.766677       3.000000"
            ],
            "text/html": [
              "\n",
              "  <div id=\"df-21f51519-470c-46fc-9606-4f0a4b7e2397\">\n",
              "    <div class=\"colab-df-container\">\n",
              "      <div>\n",
              "<style scoped>\n",
              "    .dataframe tbody tr th:only-of-type {\n",
              "        vertical-align: middle;\n",
              "    }\n",
              "\n",
              "    .dataframe tbody tr th {\n",
              "        vertical-align: top;\n",
              "    }\n",
              "\n",
              "    .dataframe thead th {\n",
              "        text-align: right;\n",
              "    }\n",
              "</style>\n",
              "<table border=\"1\" class=\"dataframe\">\n",
              "  <thead>\n",
              "    <tr style=\"text-align: right;\">\n",
              "      <th></th>\n",
              "      <th>X1</th>\n",
              "      <th>X2</th>\n",
              "      <th>Y</th>\n",
              "    </tr>\n",
              "  </thead>\n",
              "  <tbody>\n",
              "    <tr>\n",
              "      <th>count</th>\n",
              "      <td>500000.000000</td>\n",
              "      <td>500000.000000</td>\n",
              "      <td>500000.000000</td>\n",
              "    </tr>\n",
              "    <tr>\n",
              "      <th>mean</th>\n",
              "      <td>-6.247963</td>\n",
              "      <td>-2.697189</td>\n",
              "      <td>1.500000</td>\n",
              "    </tr>\n",
              "    <tr>\n",
              "      <th>std</th>\n",
              "      <td>3.155491</td>\n",
              "      <td>4.635964</td>\n",
              "      <td>1.118035</td>\n",
              "    </tr>\n",
              "    <tr>\n",
              "      <th>min</th>\n",
              "      <td>-14.628821</td>\n",
              "      <td>-12.545179</td>\n",
              "      <td>0.000000</td>\n",
              "    </tr>\n",
              "    <tr>\n",
              "      <th>25%</th>\n",
              "      <td>-8.568511</td>\n",
              "      <td>-6.077465</td>\n",
              "      <td>0.750000</td>\n",
              "    </tr>\n",
              "    <tr>\n",
              "      <th>50%</th>\n",
              "      <td>-6.666821</td>\n",
              "      <td>-3.523364</td>\n",
              "      <td>1.500000</td>\n",
              "    </tr>\n",
              "    <tr>\n",
              "      <th>75%</th>\n",
              "      <td>-3.948932</td>\n",
              "      <td>0.607066</td>\n",
              "      <td>2.250000</td>\n",
              "    </tr>\n",
              "    <tr>\n",
              "      <th>max</th>\n",
              "      <td>2.871343</td>\n",
              "      <td>8.766677</td>\n",
              "      <td>3.000000</td>\n",
              "    </tr>\n",
              "  </tbody>\n",
              "</table>\n",
              "</div>\n",
              "      <button class=\"colab-df-convert\" onclick=\"convertToInteractive('df-21f51519-470c-46fc-9606-4f0a4b7e2397')\"\n",
              "              title=\"Convert this dataframe to an interactive table.\"\n",
              "              style=\"display:none;\">\n",
              "        \n",
              "  <svg xmlns=\"http://www.w3.org/2000/svg\" height=\"24px\"viewBox=\"0 0 24 24\"\n",
              "       width=\"24px\">\n",
              "    <path d=\"M0 0h24v24H0V0z\" fill=\"none\"/>\n",
              "    <path d=\"M18.56 5.44l.94 2.06.94-2.06 2.06-.94-2.06-.94-.94-2.06-.94 2.06-2.06.94zm-11 1L8.5 8.5l.94-2.06 2.06-.94-2.06-.94L8.5 2.5l-.94 2.06-2.06.94zm10 10l.94 2.06.94-2.06 2.06-.94-2.06-.94-.94-2.06-.94 2.06-2.06.94z\"/><path d=\"M17.41 7.96l-1.37-1.37c-.4-.4-.92-.59-1.43-.59-.52 0-1.04.2-1.43.59L10.3 9.45l-7.72 7.72c-.78.78-.78 2.05 0 2.83L4 21.41c.39.39.9.59 1.41.59.51 0 1.02-.2 1.41-.59l7.78-7.78 2.81-2.81c.8-.78.8-2.07 0-2.86zM5.41 20L4 18.59l7.72-7.72 1.47 1.35L5.41 20z\"/>\n",
              "  </svg>\n",
              "      </button>\n",
              "      \n",
              "  <style>\n",
              "    .colab-df-container {\n",
              "      display:flex;\n",
              "      flex-wrap:wrap;\n",
              "      gap: 12px;\n",
              "    }\n",
              "\n",
              "    .colab-df-convert {\n",
              "      background-color: #E8F0FE;\n",
              "      border: none;\n",
              "      border-radius: 50%;\n",
              "      cursor: pointer;\n",
              "      display: none;\n",
              "      fill: #1967D2;\n",
              "      height: 32px;\n",
              "      padding: 0 0 0 0;\n",
              "      width: 32px;\n",
              "    }\n",
              "\n",
              "    .colab-df-convert:hover {\n",
              "      background-color: #E2EBFA;\n",
              "      box-shadow: 0px 1px 2px rgba(60, 64, 67, 0.3), 0px 1px 3px 1px rgba(60, 64, 67, 0.15);\n",
              "      fill: #174EA6;\n",
              "    }\n",
              "\n",
              "    [theme=dark] .colab-df-convert {\n",
              "      background-color: #3B4455;\n",
              "      fill: #D2E3FC;\n",
              "    }\n",
              "\n",
              "    [theme=dark] .colab-df-convert:hover {\n",
              "      background-color: #434B5C;\n",
              "      box-shadow: 0px 1px 3px 1px rgba(0, 0, 0, 0.15);\n",
              "      filter: drop-shadow(0px 1px 2px rgba(0, 0, 0, 0.3));\n",
              "      fill: #FFFFFF;\n",
              "    }\n",
              "  </style>\n",
              "\n",
              "      <script>\n",
              "        const buttonEl =\n",
              "          document.querySelector('#df-21f51519-470c-46fc-9606-4f0a4b7e2397 button.colab-df-convert');\n",
              "        buttonEl.style.display =\n",
              "          google.colab.kernel.accessAllowed ? 'block' : 'none';\n",
              "\n",
              "        async function convertToInteractive(key) {\n",
              "          const element = document.querySelector('#df-21f51519-470c-46fc-9606-4f0a4b7e2397');\n",
              "          const dataTable =\n",
              "            await google.colab.kernel.invokeFunction('convertToInteractive',\n",
              "                                                     [key], {});\n",
              "          if (!dataTable) return;\n",
              "\n",
              "          const docLinkHtml = 'Like what you see? Visit the ' +\n",
              "            '<a target=\"_blank\" href=https://colab.research.google.com/notebooks/data_table.ipynb>data table notebook</a>'\n",
              "            + ' to learn more about interactive tables.';\n",
              "          element.innerHTML = '';\n",
              "          dataTable['output_type'] = 'display_data';\n",
              "          await google.colab.output.renderOutput(dataTable, element);\n",
              "          const docLink = document.createElement('div');\n",
              "          docLink.innerHTML = docLinkHtml;\n",
              "          element.appendChild(docLink);\n",
              "        }\n",
              "      </script>\n",
              "    </div>\n",
              "  </div>\n",
              "  "
            ]
          },
          "metadata": {},
          "execution_count": 13
        }
      ],
      "source": [
        "data.describe()"
      ]
    },
    {
      "cell_type": "markdown",
      "metadata": {
        "id": "9szPdB2PuC5q"
      },
      "source": [
        "Дізнаємося, які класи присутні в даних"
      ]
    },
    {
      "cell_type": "code",
      "execution_count": 14,
      "metadata": {
        "colab": {
          "base_uri": "https://localhost:8080/"
        },
        "id": "EjGQHDdWtsFt",
        "outputId": "4dffc814-2afc-4c16-f7cb-3682a9a1d59d"
      },
      "outputs": [
        {
          "output_type": "execute_result",
          "data": {
            "text/plain": [
              "2    125000\n",
              "1    125000\n",
              "0    125000\n",
              "3    125000\n",
              "Name: Y, dtype: int64"
            ]
          },
          "metadata": {},
          "execution_count": 14
        }
      ],
      "source": [
        "data['Y'].value_counts()"
      ]
    },
    {
      "cell_type": "markdown",
      "source": [
        "Як бачимо, наш датасет збалансований"
      ],
      "metadata": {
        "id": "4fivd71WWlrk"
      }
    },
    {
      "cell_type": "code",
      "execution_count": 15,
      "metadata": {
        "colab": {
          "base_uri": "https://localhost:8080/",
          "height": 803
        },
        "id": "pEXAGh51oUCj",
        "outputId": "e8726f76-b67c-4c03-89c2-7a7067185e2b"
      },
      "outputs": [
        {
          "output_type": "display_data",
          "data": {
            "text/plain": [
              "<Figure size 432x288 with 1 Axes>"
            ],
            "image/png": "[encoded data removed]"
          },
          "metadata": {
            "needs_background": "light"
          }
        },
        {
          "output_type": "display_data",
          "data": {
            "text/plain": [
              "<Figure size 432x288 with 1 Axes>"
            ],
            "image/png": "[encoded data removed]"
          },
          "metadata": {
            "needs_background": "light"
          }
        },
        {
          "output_type": "display_data",
          "data": {
            "text/plain": [
              "<Figure size 432x288 with 1 Axes>"
            ],
            "image/png": "[encoded data removed]"
          },
          "metadata": {
            "needs_background": "light"
          }
        }
      ],
      "source": [
        "plt.plot(data.X1, data.Y, 'ro', label = 'X1, Y')\n",
        "plt.xlabel('X1')\n",
        "plt.ylabel('Y')\n",
        "plt.grid(True)\n",
        "plt.show()\n",
        "\n",
        "plt.plot(data.X2, data.Y, 'bo', label = 'X2, Y')\n",
        "plt.xlabel('X2')\n",
        "plt.ylabel('Y')\n",
        "plt.grid(True)\n",
        "plt.show()\n",
        "\n",
        "plt.plot(data.X1, data.X2, 'ko', label = 'X1, X2')\n",
        "plt.xlabel('X1')\n",
        "plt.ylabel('X2')\n",
        "plt.grid(True)\n",
        "plt.show()"
      ]
    },
    {
      "cell_type": "code",
      "execution_count": 16,
      "metadata": {
        "colab": {
          "base_uri": "https://localhost:8080/",
          "height": 144
        },
        "id": "jZBhDzG1qEAT",
        "outputId": "32d2f6c7-cb20-421b-c4bd-b5b2811114b8"
      },
      "outputs": [
        {
          "output_type": "execute_result",
          "data": {
            "text/plain": [
              "          X1        X2         Y\n",
              "X1  1.000000  0.714296 -0.386785\n",
              "X2  0.714296  1.000000 -0.644080\n",
              "Y  -0.386785 -0.644080  1.000000"
            ],
            "text/html": [
              "\n",
              "  <div id=\"df-4b5fc1ee-2e8f-478f-b306-d19ec184fc43\">\n",
              "    <div class=\"colab-df-container\">\n",
              "      <div>\n",
              "<style scoped>\n",
              "    .dataframe tbody tr th:only-of-type {\n",
              "        vertical-align: middle;\n",
              "    }\n",
              "\n",
              "    .dataframe tbody tr th {\n",
              "        vertical-align: top;\n",
              "    }\n",
              "\n",
              "    .dataframe thead th {\n",
              "        text-align: right;\n",
              "    }\n",
              "</style>\n",
              "<table border=\"1\" class=\"dataframe\">\n",
              "  <thead>\n",
              "    <tr style=\"text-align: right;\">\n",
              "      <th></th>\n",
              "      <th>X1</th>\n",
              "      <th>X2</th>\n",
              "      <th>Y</th>\n",
              "    </tr>\n",
              "  </thead>\n",
              "  <tbody>\n",
              "    <tr>\n",
              "      <th>X1</th>\n",
              "      <td>1.000000</td>\n",
              "      <td>0.714296</td>\n",
              "      <td>-0.386785</td>\n",
              "    </tr>\n",
              "    <tr>\n",
              "      <th>X2</th>\n",
              "      <td>0.714296</td>\n",
              "      <td>1.000000</td>\n",
              "      <td>-0.644080</td>\n",
              "    </tr>\n",
              "    <tr>\n",
              "      <th>Y</th>\n",
              "      <td>-0.386785</td>\n",
              "      <td>-0.644080</td>\n",
              "      <td>1.000000</td>\n",
              "    </tr>\n",
              "  </tbody>\n",
              "</table>\n",
              "</div>\n",
              "      <button class=\"colab-df-convert\" onclick=\"convertToInteractive('df-4b5fc1ee-2e8f-478f-b306-d19ec184fc43')\"\n",
              "              title=\"Convert this dataframe to an interactive table.\"\n",
              "              style=\"display:none;\">\n",
              "        \n",
              "  <svg xmlns=\"http://www.w3.org/2000/svg\" height=\"24px\"viewBox=\"0 0 24 24\"\n",
              "       width=\"24px\">\n",
              "    <path d=\"M0 0h24v24H0V0z\" fill=\"none\"/>\n",
              "    <path d=\"M18.56 5.44l.94 2.06.94-2.06 2.06-.94-2.06-.94-.94-2.06-.94 2.06-2.06.94zm-11 1L8.5 8.5l.94-2.06 2.06-.94-2.06-.94L8.5 2.5l-.94 2.06-2.06.94zm10 10l.94 2.06.94-2.06 2.06-.94-2.06-.94-.94-2.06-.94 2.06-2.06.94z\"/><path d=\"M17.41 7.96l-1.37-1.37c-.4-.4-.92-.59-1.43-.59-.52 0-1.04.2-1.43.59L10.3 9.45l-7.72 7.72c-.78.78-.78 2.05 0 2.83L4 21.41c.39.39.9.59 1.41.59.51 0 1.02-.2 1.41-.59l7.78-7.78 2.81-2.81c.8-.78.8-2.07 0-2.86zM5.41 20L4 18.59l7.72-7.72 1.47 1.35L5.41 20z\"/>\n",
              "  </svg>\n",
              "      </button>\n",
              "      \n",
              "  <style>\n",
              "    .colab-df-container {\n",
              "      display:flex;\n",
              "      flex-wrap:wrap;\n",
              "      gap: 12px;\n",
              "    }\n",
              "\n",
              "    .colab-df-convert {\n",
              "      background-color: #E8F0FE;\n",
              "      border: none;\n",
              "      border-radius: 50%;\n",
              "      cursor: pointer;\n",
              "      display: none;\n",
              "      fill: #1967D2;\n",
              "      height: 32px;\n",
              "      padding: 0 0 0 0;\n",
              "      width: 32px;\n",
              "    }\n",
              "\n",
              "    .colab-df-convert:hover {\n",
              "      background-color: #E2EBFA;\n",
              "      box-shadow: 0px 1px 2px rgba(60, 64, 67, 0.3), 0px 1px 3px 1px rgba(60, 64, 67, 0.15);\n",
              "      fill: #174EA6;\n",
              "    }\n",
              "\n",
              "    [theme=dark] .colab-df-convert {\n",
              "      background-color: #3B4455;\n",
              "      fill: #D2E3FC;\n",
              "    }\n",
              "\n",
              "    [theme=dark] .colab-df-convert:hover {\n",
              "      background-color: #434B5C;\n",
              "      box-shadow: 0px 1px 3px 1px rgba(0, 0, 0, 0.15);\n",
              "      filter: drop-shadow(0px 1px 2px rgba(0, 0, 0, 0.3));\n",
              "      fill: #FFFFFF;\n",
              "    }\n",
              "  </style>\n",
              "\n",
              "      <script>\n",
              "        const buttonEl =\n",
              "          document.querySelector('#df-4b5fc1ee-2e8f-478f-b306-d19ec184fc43 button.colab-df-convert');\n",
              "        buttonEl.style.display =\n",
              "          google.colab.kernel.accessAllowed ? 'block' : 'none';\n",
              "\n",
              "        async function convertToInteractive(key) {\n",
              "          const element = document.querySelector('#df-4b5fc1ee-2e8f-478f-b306-d19ec184fc43');\n",
              "          const dataTable =\n",
              "            await google.colab.kernel.invokeFunction('convertToInteractive',\n",
              "                                                     [key], {});\n",
              "          if (!dataTable) return;\n",
              "\n",
              "          const docLinkHtml = 'Like what you see? Visit the ' +\n",
              "            '<a target=\"_blank\" href=https://colab.research.google.com/notebooks/data_table.ipynb>data table notebook</a>'\n",
              "            + ' to learn more about interactive tables.';\n",
              "          element.innerHTML = '';\n",
              "          dataTable['output_type'] = 'display_data';\n",
              "          await google.colab.output.renderOutput(dataTable, element);\n",
              "          const docLink = document.createElement('div');\n",
              "          docLink.innerHTML = docLinkHtml;\n",
              "          element.appendChild(docLink);\n",
              "        }\n",
              "      </script>\n",
              "    </div>\n",
              "  </div>\n",
              "  "
            ]
          },
          "metadata": {},
          "execution_count": 16
        }
      ],
      "source": [
        "data.corr()"
      ]
    },
    {
      "cell_type": "markdown",
      "metadata": {
        "id": "xhvMLt66rCEM"
      },
      "source": [
        "# Split data into train and test"
      ]
    },
    {
      "cell_type": "code",
      "execution_count": 19,
      "metadata": {
        "id": "OpV-dXPrrBR2"
      },
      "outputs": [],
      "source": [
        "def split_data(X, y, fraction):\n",
        "    split = np.random.rand(X.shape[0]) > fraction\n",
        "\n",
        "    X_Train = X[split]\n",
        "    y_Train = y[split]\n",
        "    X_Test =  X[~split]\n",
        "    y_Test = y[~split]\n",
        "\n",
        "    return X_Train, y_Train, X_Test, y_Test"
      ]
    },
    {
      "cell_type": "code",
      "execution_count": 20,
      "metadata": {
        "id": "tioEZhbjsbQX"
      },
      "outputs": [],
      "source": [
        "X_Train, y_Train, X_Test, y_Test = split_data(data[['X1', 'X2']], data['Y'], fraction = 0.1)"
      ]
    },
    {
      "cell_type": "code",
      "execution_count": 21,
      "metadata": {
        "colab": {
          "base_uri": "https://localhost:8080/"
        },
        "id": "In4aroMVso5b",
        "outputId": "42455374-9dc9-49eb-ca4d-5e74d5df3d29"
      },
      "outputs": [
        {
          "output_type": "execute_result",
          "data": {
            "text/plain": [
              "((449909, 2), (449909,), (50091, 2), (50091,))"
            ]
          },
          "metadata": {},
          "execution_count": 21
        }
      ],
      "source": [
        "X_Train.shape, y_Train.shape, X_Test.shape, y_Test.shape"
      ]
    },
    {
      "cell_type": "markdown",
      "source": [
        "# Build KMeans clustering model"
      ],
      "metadata": {
        "id": "9DkRSgiroZjk"
      }
    },
    {
      "cell_type": "code",
      "source": [
        "%%time\n",
        "kmeans = KMeans(n_clusters=4, random_state=0).fit(X_Train)"
      ],
      "metadata": {
        "colab": {
          "base_uri": "https://localhost:8080/"
        },
        "id": "EE8swWGIolM6",
        "outputId": "2607e128-6d60-4cdc-d247-ed20b60901ca"
      },
      "execution_count": 45,
      "outputs": [
        {
          "output_type": "stream",
          "name": "stdout",
          "text": [
            "CPU times: user 3.08 s, sys: 1.18 s, total: 4.26 s\n",
            "Wall time: 2.28 s\n"
          ]
        }
      ]
    },
    {
      "cell_type": "code",
      "source": [
        "X_Train[\"Y_pred\"] = kmeans.labels_\n",
        "X_Test[\"Y_pred\"] = kmeans.predict(X_Test)"
      ],
      "metadata": {
        "id": "ieha8lttqNXH"
      },
      "execution_count": 46,
      "outputs": []
    },
    {
      "cell_type": "code",
      "source": [
        "kmeans.cluster_centers_"
      ],
      "metadata": {
        "colab": {
          "base_uri": "https://localhost:8080/"
        },
        "id": "D_K_k_R6rJFV",
        "outputId": "c83bd8a9-3067-4f6a-8767-63ba6978f0f2"
      },
      "execution_count": 29,
      "outputs": [
        {
          "output_type": "execute_result",
          "data": {
            "text/plain": [
              "array([[-1.00257277e+01, -3.95464171e+00,  1.00000000e+00],\n",
              "       [-1.65503706e+00,  4.40761165e+00,  4.70401496e-13],\n",
              "       [-7.06169987e+00, -8.15002679e+00,  1.00000000e+00],\n",
              "       [-6.25446786e+00, -3.08320544e+00,  9.99323916e-01]])"
            ]
          },
          "metadata": {},
          "execution_count": 29
        }
      ]
    },
    {
      "cell_type": "markdown",
      "source": [
        "Зобразимо центри кластерів:"
      ],
      "metadata": {
        "id": "gJagbJ8Ysqm5"
      }
    },
    {
      "cell_type": "code",
      "source": [
        "data0 = X_Train[X_Train[\"Y_pred\"] ==0]\n",
        "data1 = X_Train[X_Train[\"Y_pred\"] ==1]\n",
        "data2 = X_Train[X_Train[\"Y_pred\"] ==2]\n",
        "data3 = X_Train[X_Train[\"Y_pred\"] ==3]"
      ],
      "metadata": {
        "id": "H3hANLIlttBm"
      },
      "execution_count": 47,
      "outputs": []
    },
    {
      "cell_type": "code",
      "source": [
        "fig = plt.figure()\n",
        "ax = plt.axes(projection='3d')\n",
        "ax.scatter3D(data0['X1'].to_numpy(), data0['X2'].to_numpy(), data0['Y_pred'].to_numpy(), c=\"r\")\n",
        "ax.scatter3D(data1['X1'].to_numpy(), data1['X2'].to_numpy(), data1['Y_pred'].to_numpy(), c=\"b\")\n",
        "ax.scatter3D(data2['X1'].to_numpy(), data2['X2'].to_numpy(), data2['Y_pred'].to_numpy(), c=\"k\")\n",
        "ax.scatter3D(data3['X1'].to_numpy(), data3['X2'].to_numpy(), data3['Y_pred'].to_numpy(), c=\"g\")\n",
        "ax.set_xlabel('X1')\n",
        "ax.set_ylabel('X2')\n",
        "ax.set_zlabel('Y')\n",
        "ax.view_init(elev=30, azim = 30)\n",
        "plt.show()"
      ],
      "metadata": {
        "colab": {
          "base_uri": "https://localhost:8080/",
          "height": 248
        },
        "id": "1wbS_CLHrSoG",
        "outputId": "1c403e09-268c-4688-87d7-8cbe898b2727"
      },
      "execution_count": 49,
      "outputs": [
        {
          "output_type": "display_data",
          "data": {
            "text/plain": [
              "<Figure size 432x288 with 1 Axes>"
            ],
            "image/png": "[encoded data removed]"
          },
          "metadata": {
            "needs_background": "light"
          }
        }
      ]
    },
    {
      "cell_type": "markdown",
      "source": [
        "# Build MiniBatchKMeans Clustering Model"
      ],
      "metadata": {
        "id": "ViaY6hvKutrF"
      }
    },
    {
      "cell_type": "code",
      "source": [
        "%%time\n",
        "minibkmeans = MiniBatchKMeans(n_clusters=4, random_state=0).fit(X_Train)"
      ],
      "metadata": {
        "colab": {
          "base_uri": "https://localhost:8080/"
        },
        "id": "mpnJGXb9utiS",
        "outputId": "e2e4591e-b368-482d-a26e-d5db1c4f2cd6"
      },
      "execution_count": 52,
      "outputs": [
        {
          "output_type": "stream",
          "name": "stdout",
          "text": [
            "CPU times: user 104 ms, sys: 33.6 ms, total: 138 ms\n",
            "Wall time: 85.1 ms\n"
          ]
        }
      ]
    },
    {
      "cell_type": "code",
      "source": [
        "X_Train[\"Y_pred2\"] = minibkmeans.labels_\n",
        "X_Test[\"Y_pred2\"] = minibkmeans.predict(X_Test)"
      ],
      "metadata": {
        "id": "RbIIUF3Ius2P"
      },
      "execution_count": 53,
      "outputs": []
    },
    {
      "cell_type": "code",
      "source": [
        "data0 = X_Train[X_Train[\"Y_pred2\"] ==0]\n",
        "data1 = X_Train[X_Train[\"Y_pred2\"] ==1]\n",
        "data2 = X_Train[X_Train[\"Y_pred2\"] ==2]\n",
        "data3 = X_Train[X_Train[\"Y_pred2\"] ==3]"
      ],
      "metadata": {
        "id": "T4q_af3FvOEi"
      },
      "execution_count": 54,
      "outputs": []
    },
    {
      "cell_type": "code",
      "source": [
        "fig = plt.figure()\n",
        "ax = plt.axes(projection='3d')\n",
        "ax.scatter3D(data0['X1'].to_numpy(), data0['X2'].to_numpy(), data0['Y_pred2'].to_numpy(), c=\"r\")\n",
        "ax.scatter3D(data1['X1'].to_numpy(), data1['X2'].to_numpy(), data1['Y_pred2'].to_numpy(), c=\"b\")\n",
        "ax.scatter3D(data2['X1'].to_numpy(), data2['X2'].to_numpy(), data2['Y_pred2'].to_numpy(), c=\"k\")\n",
        "ax.scatter3D(data3['X1'].to_numpy(), data3['X2'].to_numpy(), data3['Y_pred2'].to_numpy(), c=\"g\")\n",
        "ax.set_xlabel('X1')\n",
        "ax.set_ylabel('X2')\n",
        "ax.set_zlabel('Y')\n",
        "ax.view_init(elev=30, azim = 30)\n",
        "plt.show()"
      ],
      "metadata": {
        "colab": {
          "base_uri": "https://localhost:8080/",
          "height": 248
        },
        "id": "6CxhmSAjvhpU",
        "outputId": "c8dea6a6-934c-49db-864c-472f5d112020"
      },
      "execution_count": 55,
      "outputs": [
        {
          "output_type": "display_data",
          "data": {
            "text/plain": [
              "<Figure size 432x288 with 1 Axes>"
            ],
            "image/png": "[encoded data removed]"
          },
          "metadata": {
            "needs_background": "light"
          }
        }
      ]
    },
    {
      "cell_type": "markdown",
      "metadata": {
        "id": "Q01igap1hAmQ"
      },
      "source": [
        "# Evaluation\n",
        "\n",
        "* Adjusted Rand Index\n",
        "* Calinski-Harabasz Index\n",
        "* Davies- Bouldin index"
      ]
    },
    {
      "cell_type": "markdown",
      "source": [
        "Evaluation for KMeans"
      ],
      "metadata": {
        "id": "wZDaRn_Byu_h"
      }
    },
    {
      "cell_type": "code",
      "source": [
        "metrics.adjusted_rand_score(y_Test, X_Test[\"Y_pred\"])"
      ],
      "metadata": {
        "colab": {
          "base_uri": "https://localhost:8080/"
        },
        "id": "sEhKRnEsxM1v",
        "outputId": "a40ec388-2584-46a8-81ce-82a8089990eb"
      },
      "execution_count": 56,
      "outputs": [
        {
          "output_type": "execute_result",
          "data": {
            "text/plain": [
              "0.9519592238708955"
            ]
          },
          "metadata": {},
          "execution_count": 56
        }
      ]
    },
    {
      "cell_type": "code",
      "source": [
        "metrics.calinski_harabasz_score(X_Test, X_Test[\"Y_pred\"])"
      ],
      "metadata": {
        "colab": {
          "base_uri": "https://localhost:8080/"
        },
        "id": "ca_uwoH-zt_R",
        "outputId": "0b69309a-0525-4a0c-e9d9-3ba98de3437e"
      },
      "execution_count": 57,
      "outputs": [
        {
          "output_type": "execute_result",
          "data": {
            "text/plain": [
              "276631.6408142036"
            ]
          },
          "metadata": {},
          "execution_count": 57
        }
      ]
    },
    {
      "cell_type": "code",
      "source": [
        "metrics.davies_bouldin_score(X_Test, X_Test[\"Y_pred\"])"
      ],
      "metadata": {
        "colab": {
          "base_uri": "https://localhost:8080/"
        },
        "id": "YCoPxJTzzuoV",
        "outputId": "baa3a7b3-191f-417e-a64c-851e8995307a"
      },
      "execution_count": 58,
      "outputs": [
        {
          "output_type": "execute_result",
          "data": {
            "text/plain": [
              "0.4767915462796507"
            ]
          },
          "metadata": {},
          "execution_count": 58
        }
      ]
    },
    {
      "cell_type": "markdown",
      "source": [
        "Evaluation for MiniBatchKMeans"
      ],
      "metadata": {
        "id": "1McQuZP10spm"
      }
    },
    {
      "cell_type": "code",
      "source": [
        "metrics.adjusted_rand_score(y_Test, X_Test[\"Y_pred2\"])"
      ],
      "metadata": {
        "colab": {
          "base_uri": "https://localhost:8080/"
        },
        "id": "ybZzLZp20yp3",
        "outputId": "78c69b38-f2de-46dc-af7f-bcea92f9048d"
      },
      "execution_count": 59,
      "outputs": [
        {
          "output_type": "execute_result",
          "data": {
            "text/plain": [
              "0.9519592238708955"
            ]
          },
          "metadata": {},
          "execution_count": 59
        }
      ]
    },
    {
      "cell_type": "code",
      "source": [
        "metrics.calinski_harabasz_score(X_Test, X_Test[\"Y_pred2\"])"
      ],
      "metadata": {
        "colab": {
          "base_uri": "https://localhost:8080/"
        },
        "id": "GG7u5V8i1ClL",
        "outputId": "0de44608-f9c3-4fb1-a2e3-bb38bd65d856"
      },
      "execution_count": 60,
      "outputs": [
        {
          "output_type": "execute_result",
          "data": {
            "text/plain": [
              "276631.6408142036"
            ]
          },
          "metadata": {},
          "execution_count": 60
        }
      ]
    },
    {
      "cell_type": "code",
      "source": [
        "metrics.davies_bouldin_score(X_Test, X_Test[\"Y_pred2\"])"
      ],
      "metadata": {
        "colab": {
          "base_uri": "https://localhost:8080/"
        },
        "id": "O-zquLSU1FY5",
        "outputId": "38d60036-0b45-45ed-9bab-3425c0a24ade"
      },
      "execution_count": 61,
      "outputs": [
        {
          "output_type": "execute_result",
          "data": {
            "text/plain": [
              "0.4767915462796507"
            ]
          },
          "metadata": {},
          "execution_count": 61
        }
      ]
    },
    {
      "cell_type": "markdown",
      "source": [
        "# Оцiнимо швидкодiю методів на великих наборах даних"
      ],
      "metadata": {
        "id": "jp9_xYMx2AAB"
      }
    },
    {
      "cell_type": "code",
      "source": [
        "Xm, Ym = make_blobs(n_samples=1000000)"
      ],
      "metadata": {
        "id": "9vYM2c6G2pNQ"
      },
      "execution_count": 62,
      "outputs": []
    },
    {
      "cell_type": "code",
      "source": [
        "Xm = pd.DataFrame(Xm)\n",
        "Ym = pd.DataFrame(Ym)"
      ],
      "metadata": {
        "id": "pMED_1hF3PhR"
      },
      "execution_count": 63,
      "outputs": []
    },
    {
      "cell_type": "code",
      "source": [
        "datam = pd.concat([Xm,Ym], axis=1, join=\"inner\")\n",
        "datam.columns = ['X1','X2','Y']\n",
        "datam.head()"
      ],
      "metadata": {
        "colab": {
          "base_uri": "https://localhost:8080/",
          "height": 206
        },
        "id": "LlDU567K3F9R",
        "outputId": "28728e60-ba1f-4295-802a-60f7636843bd"
      },
      "execution_count": 64,
      "outputs": [
        {
          "output_type": "execute_result",
          "data": {
            "text/plain": [
              "         X1        X2  Y\n",
              "0 -8.454216  6.046216  2\n",
              "1  6.301243 -7.205189  0\n",
              "2  1.698379  2.150387  1\n",
              "3  3.453967  0.944808  1\n",
              "4  5.358192 -9.119251  0"
            ],
            "text/html": [
              "\n",
              "  <div id=\"df-b55c2629-522b-498d-8724-0791031851ca\">\n",
              "    <div class=\"colab-df-container\">\n",
              "      <div>\n",
              "<style scoped>\n",
              "    .dataframe tbody tr th:only-of-type {\n",
              "        vertical-align: middle;\n",
              "    }\n",
              "\n",
              "    .dataframe tbody tr th {\n",
              "        vertical-align: top;\n",
              "    }\n",
              "\n",
              "    .dataframe thead th {\n",
              "        text-align: right;\n",
              "    }\n",
              "</style>\n",
              "<table border=\"1\" class=\"dataframe\">\n",
              "  <thead>\n",
              "    <tr style=\"text-align: right;\">\n",
              "      <th></th>\n",
              "      <th>X1</th>\n",
              "      <th>X2</th>\n",
              "      <th>Y</th>\n",
              "    </tr>\n",
              "  </thead>\n",
              "  <tbody>\n",
              "    <tr>\n",
              "      <th>0</th>\n",
              "      <td>-8.454216</td>\n",
              "      <td>6.046216</td>\n",
              "      <td>2</td>\n",
              "    </tr>\n",
              "    <tr>\n",
              "      <th>1</th>\n",
              "      <td>6.301243</td>\n",
              "      <td>-7.205189</td>\n",
              "      <td>0</td>\n",
              "    </tr>\n",
              "    <tr>\n",
              "      <th>2</th>\n",
              "      <td>1.698379</td>\n",
              "      <td>2.150387</td>\n",
              "      <td>1</td>\n",
              "    </tr>\n",
              "    <tr>\n",
              "      <th>3</th>\n",
              "      <td>3.453967</td>\n",
              "      <td>0.944808</td>\n",
              "      <td>1</td>\n",
              "    </tr>\n",
              "    <tr>\n",
              "      <th>4</th>\n",
              "      <td>5.358192</td>\n",
              "      <td>-9.119251</td>\n",
              "      <td>0</td>\n",
              "    </tr>\n",
              "  </tbody>\n",
              "</table>\n",
              "</div>\n",
              "      <button class=\"colab-df-convert\" onclick=\"convertToInteractive('df-b55c2629-522b-498d-8724-0791031851ca')\"\n",
              "              title=\"Convert this dataframe to an interactive table.\"\n",
              "              style=\"display:none;\">\n",
              "        \n",
              "  <svg xmlns=\"http://www.w3.org/2000/svg\" height=\"24px\"viewBox=\"0 0 24 24\"\n",
              "       width=\"24px\">\n",
              "    <path d=\"M0 0h24v24H0V0z\" fill=\"none\"/>\n",
              "    <path d=\"M18.56 5.44l.94 2.06.94-2.06 2.06-.94-2.06-.94-.94-2.06-.94 2.06-2.06.94zm-11 1L8.5 8.5l.94-2.06 2.06-.94-2.06-.94L8.5 2.5l-.94 2.06-2.06.94zm10 10l.94 2.06.94-2.06 2.06-.94-2.06-.94-.94-2.06-.94 2.06-2.06.94z\"/><path d=\"M17.41 7.96l-1.37-1.37c-.4-.4-.92-.59-1.43-.59-.52 0-1.04.2-1.43.59L10.3 9.45l-7.72 7.72c-.78.78-.78 2.05 0 2.83L4 21.41c.39.39.9.59 1.41.59.51 0 1.02-.2 1.41-.59l7.78-7.78 2.81-2.81c.8-.78.8-2.07 0-2.86zM5.41 20L4 18.59l7.72-7.72 1.47 1.35L5.41 20z\"/>\n",
              "  </svg>\n",
              "      </button>\n",
              "      \n",
              "  <style>\n",
              "    .colab-df-container {\n",
              "      display:flex;\n",
              "      flex-wrap:wrap;\n",
              "      gap: 12px;\n",
              "    }\n",
              "\n",
              "    .colab-df-convert {\n",
              "      background-color: #E8F0FE;\n",
              "      border: none;\n",
              "      border-radius: 50%;\n",
              "      cursor: pointer;\n",
              "      display: none;\n",
              "      fill: #1967D2;\n",
              "      height: 32px;\n",
              "      padding: 0 0 0 0;\n",
              "      width: 32px;\n",
              "    }\n",
              "\n",
              "    .colab-df-convert:hover {\n",
              "      background-color: #E2EBFA;\n",
              "      box-shadow: 0px 1px 2px rgba(60, 64, 67, 0.3), 0px 1px 3px 1px rgba(60, 64, 67, 0.15);\n",
              "      fill: #174EA6;\n",
              "    }\n",
              "\n",
              "    [theme=dark] .colab-df-convert {\n",
              "      background-color: #3B4455;\n",
              "      fill: #D2E3FC;\n",
              "    }\n",
              "\n",
              "    [theme=dark] .colab-df-convert:hover {\n",
              "      background-color: #434B5C;\n",
              "      box-shadow: 0px 1px 3px 1px rgba(0, 0, 0, 0.15);\n",
              "      filter: drop-shadow(0px 1px 2px rgba(0, 0, 0, 0.3));\n",
              "      fill: #FFFFFF;\n",
              "    }\n",
              "  </style>\n",
              "\n",
              "      <script>\n",
              "        const buttonEl =\n",
              "          document.querySelector('#df-b55c2629-522b-498d-8724-0791031851ca button.colab-df-convert');\n",
              "        buttonEl.style.display =\n",
              "          google.colab.kernel.accessAllowed ? 'block' : 'none';\n",
              "\n",
              "        async function convertToInteractive(key) {\n",
              "          const element = document.querySelector('#df-b55c2629-522b-498d-8724-0791031851ca');\n",
              "          const dataTable =\n",
              "            await google.colab.kernel.invokeFunction('convertToInteractive',\n",
              "                                                     [key], {});\n",
              "          if (!dataTable) return;\n",
              "\n",
              "          const docLinkHtml = 'Like what you see? Visit the ' +\n",
              "            '<a target=\"_blank\" href=https://colab.research.google.com/notebooks/data_table.ipynb>data table notebook</a>'\n",
              "            + ' to learn more about interactive tables.';\n",
              "          element.innerHTML = '';\n",
              "          dataTable['output_type'] = 'display_data';\n",
              "          await google.colab.output.renderOutput(dataTable, element);\n",
              "          const docLink = document.createElement('div');\n",
              "          docLink.innerHTML = docLinkHtml;\n",
              "          element.appendChild(docLink);\n",
              "        }\n",
              "      </script>\n",
              "    </div>\n",
              "  </div>\n",
              "  "
            ]
          },
          "metadata": {},
          "execution_count": 64
        }
      ]
    },
    {
      "cell_type": "code",
      "source": [
        "%%time\n",
        "kmeans = KMeans(n_clusters=4, random_state=0).fit(datam)"
      ],
      "metadata": {
        "colab": {
          "base_uri": "https://localhost:8080/"
        },
        "id": "SHDZndtF3ctU",
        "outputId": "4a0fcc4d-9a52-455a-e7d7-86f986f605ed"
      },
      "execution_count": 67,
      "outputs": [
        {
          "output_type": "stream",
          "name": "stdout",
          "text": [
            "CPU times: user 7.4 s, sys: 1.81 s, total: 9.21 s\n",
            "Wall time: 6.02 s\n"
          ]
        }
      ]
    },
    {
      "cell_type": "code",
      "source": [
        "%%time\n",
        "minibkmeans = MiniBatchKMeans(n_clusters=4, random_state=0).fit(datam)"
      ],
      "metadata": {
        "colab": {
          "base_uri": "https://localhost:8080/"
        },
        "id": "bhUtn8fU3VJV",
        "outputId": "1dbd8ae8-fdc6-4a22-f48b-19d2a4c145b2"
      },
      "execution_count": 68,
      "outputs": [
        {
          "output_type": "stream",
          "name": "stdout",
          "text": [
            "CPU times: user 747 ms, sys: 59 ms, total: 806 ms\n",
            "Wall time: 745 ms\n"
          ]
        }
      ]
    },
    {
      "cell_type": "markdown",
      "source": [
        "# Побудуємо кiлька альтернативних моделей"
      ],
      "metadata": {
        "id": "91EEdBGi4hAY"
      }
    },
    {
      "cell_type": "code",
      "source": [
        "%%time\n",
        "kmeans = KMeans(n_clusters=5, init='k-means++', n_init=10, max_iter=100000, tol=0.0001).fit(X_Train)"
      ],
      "metadata": {
        "colab": {
          "base_uri": "https://localhost:8080/"
        },
        "id": "mlbV-uGm4n4-",
        "outputId": "b1f382c8-31d3-4162-f17b-f4596359fecd"
      },
      "execution_count": 72,
      "outputs": [
        {
          "output_type": "stream",
          "name": "stdout",
          "text": [
            "CPU times: user 4.38 s, sys: 1.45 s, total: 5.83 s\n",
            "Wall time: 3.09 s\n"
          ]
        }
      ]
    },
    {
      "cell_type": "code",
      "source": [
        "X_Train[\"Y_pred\"] = kmeans.labels_\n",
        "X_Test[\"Y_pred\"] = kmeans.predict(X_Test)\n",
        "\n",
        "metrics.adjusted_rand_score(y_Test, X_Test[\"Y_pred\"]), metrics.calinski_harabasz_score(X_Test, X_Test[\"Y_pred\"]), metrics.davies_bouldin_score(X_Test, X_Test[\"Y_pred\"])"
      ],
      "metadata": {
        "colab": {
          "base_uri": "https://localhost:8080/"
        },
        "id": "GwoPaay07Cv9",
        "outputId": "45158530-cd78-44f8-e2e9-d416a8e7d7d5"
      },
      "execution_count": 73,
      "outputs": [
        {
          "output_type": "execute_result",
          "data": {
            "text/plain": [
              "(0.8608719370411108, 231253.27327758112, 0.5579540321756167)"
            ]
          },
          "metadata": {},
          "execution_count": 73
        }
      ]
    },
    {
      "cell_type": "code",
      "source": [
        "%%time\n",
        "kmeans = KMeans(n_clusters=2, init='k-means++', n_init=10, max_iter=100, tol=0.01).fit(X_Train)"
      ],
      "metadata": {
        "colab": {
          "base_uri": "https://localhost:8080/"
        },
        "id": "U0wuss4R4f0X",
        "outputId": "2e8c8600-12c5-4760-e95e-2d129b51cb88"
      },
      "execution_count": 74,
      "outputs": [
        {
          "output_type": "stream",
          "name": "stdout",
          "text": [
            "CPU times: user 2.08 s, sys: 663 ms, total: 2.74 s\n",
            "Wall time: 1.46 s\n"
          ]
        }
      ]
    },
    {
      "cell_type": "code",
      "source": [
        "X_Train[\"Y_pred\"] = kmeans.labels_\n",
        "X_Test[\"Y_pred\"] = kmeans.predict(X_Test)\n",
        "\n",
        "metrics.adjusted_rand_score(y_Test, X_Test[\"Y_pred\"]), metrics.calinski_harabasz_score(X_Test, X_Test[\"Y_pred\"]), metrics.davies_bouldin_score(X_Test, X_Test[\"Y_pred\"])"
      ],
      "metadata": {
        "colab": {
          "base_uri": "https://localhost:8080/"
        },
        "id": "XE8Hv6jP8FwW",
        "outputId": "5e10979e-4782-4b66-cac7-ec43654513ed"
      },
      "execution_count": 75,
      "outputs": [
        {
          "output_type": "execute_result",
          "data": {
            "text/plain": [
              "(0.33653579364161595, 139648.41906782376, 0.38997664262377096)"
            ]
          },
          "metadata": {},
          "execution_count": 75
        }
      ]
    },
    {
      "cell_type": "code",
      "source": [
        "%%time\n",
        "kmeans = KMeans(n_clusters=2, init='random', n_init=10, max_iter=300, tol=0.1).fit(X_Train)"
      ],
      "metadata": {
        "colab": {
          "base_uri": "https://localhost:8080/"
        },
        "id": "yUgj2O1y6BbQ",
        "outputId": "00dd519a-0b8b-4766-da0f-a02ccf1580cb"
      },
      "execution_count": 76,
      "outputs": [
        {
          "output_type": "stream",
          "name": "stdout",
          "text": [
            "CPU times: user 2.04 s, sys: 91.9 ms, total: 2.13 s\n",
            "Wall time: 1.14 s\n"
          ]
        }
      ]
    },
    {
      "cell_type": "code",
      "source": [
        "X_Train[\"Y_pred\"] = kmeans.labels_\n",
        "X_Test[\"Y_pred\"] = kmeans.predict(X_Test)\n",
        "\n",
        "metrics.adjusted_rand_score(y_Test, X_Test[\"Y_pred\"]), metrics.calinski_harabasz_score(X_Test, X_Test[\"Y_pred\"]), metrics.davies_bouldin_score(X_Test, X_Test[\"Y_pred\"])"
      ],
      "metadata": {
        "colab": {
          "base_uri": "https://localhost:8080/"
        },
        "id": "QmjqiAPX8L9f",
        "outputId": "92bba5f5-6ba2-4b43-c478-740dc2ea6975"
      },
      "execution_count": 77,
      "outputs": [
        {
          "output_type": "execute_result",
          "data": {
            "text/plain": [
              "(0.3365479841230935, 139649.0464307927, 0.38993951047286085)"
            ]
          },
          "metadata": {},
          "execution_count": 77
        }
      ]
    },
    {
      "cell_type": "code",
      "source": [
        "%%time\n",
        "minibkmeans = MiniBatchKMeans(n_clusters=12, init='k-means++', n_init=10, max_iter=100, tol=0.0001, batch_size=2048).fit(X_Train)"
      ],
      "metadata": {
        "colab": {
          "base_uri": "https://localhost:8080/"
        },
        "id": "peGSqc4F6Gd2",
        "outputId": "81189405-68bf-4c2e-ba0e-d2fef4159b66"
      },
      "execution_count": 78,
      "outputs": [
        {
          "output_type": "stream",
          "name": "stdout",
          "text": [
            "CPU times: user 527 ms, sys: 314 ms, total: 842 ms\n",
            "Wall time: 446 ms\n"
          ]
        }
      ]
    },
    {
      "cell_type": "code",
      "source": [
        "X_Train[\"Y_pred\"] = minibkmeans.labels_\n",
        "X_Test[\"Y_pred\"] = minibkmeans.predict(X_Test)\n",
        "\n",
        "metrics.adjusted_rand_score(y_Test, X_Test[\"Y_pred\"]), metrics.calinski_harabasz_score(X_Test, X_Test[\"Y_pred\"]), metrics.davies_bouldin_score(X_Test, X_Test[\"Y_pred\"])"
      ],
      "metadata": {
        "colab": {
          "base_uri": "https://localhost:8080/"
        },
        "id": "YYOB0Xf-8nke",
        "outputId": "47b621c7-92c1-4b78-9db6-6f9575dd90af"
      },
      "execution_count": 79,
      "outputs": [
        {
          "output_type": "execute_result",
          "data": {
            "text/plain": [
              "(0.410162170954805, 223677.65544889963, 0.49117008235353327)"
            ]
          },
          "metadata": {},
          "execution_count": 79
        }
      ]
    },
    {
      "cell_type": "code",
      "source": [
        "%%time\n",
        "minibkmeans = MiniBatchKMeans(n_clusters=3, init='k-means++', n_init=10, max_iter=100, tol=0.0001, batch_size=4096).fit(X_Train)"
      ],
      "metadata": {
        "colab": {
          "base_uri": "https://localhost:8080/"
        },
        "id": "Y8qhoxXj62pi",
        "outputId": "650bc588-f271-42ab-9821-417668271734"
      },
      "execution_count": 80,
      "outputs": [
        {
          "output_type": "stream",
          "name": "stdout",
          "text": [
            "CPU times: user 258 ms, sys: 156 ms, total: 415 ms\n",
            "Wall time: 220 ms\n"
          ]
        }
      ]
    },
    {
      "cell_type": "code",
      "source": [
        "X_Train[\"Y_pred\"] = minibkmeans.labels_\n",
        "X_Test[\"Y_pred\"] = minibkmeans.predict(X_Test)\n",
        "\n",
        "metrics.adjusted_rand_score(y_Test, X_Test[\"Y_pred\"]), metrics.calinski_harabasz_score(X_Test, X_Test[\"Y_pred\"]), metrics.davies_bouldin_score(X_Test, X_Test[\"Y_pred\"])"
      ],
      "metadata": {
        "colab": {
          "base_uri": "https://localhost:8080/"
        },
        "id": "q8fJGNLx8x_M",
        "outputId": "6e000966-4c6c-4f83-c4b3-6f9b3da0b3f0"
      },
      "execution_count": 81,
      "outputs": [
        {
          "output_type": "execute_result",
          "data": {
            "text/plain": [
              "(0.369154237629322, 76533.27527491088, 1.7168628196864042)"
            ]
          },
          "metadata": {},
          "execution_count": 81
        }
      ]
    },
    {
      "cell_type": "markdown",
      "source": [
        "# Чи є розбиття стабiльним на пiдвибiрках даних?"
      ],
      "metadata": {
        "id": "ZrCAEjFp-Pl7"
      }
    },
    {
      "cell_type": "code",
      "source": [
        "X_Train2, y_Train2, X_Test2, y_Test2 = split_data(X_Train[['X1', 'X2']], y_Train, fraction = 0.4)"
      ],
      "metadata": {
        "id": "GOcfqo9_-VvJ"
      },
      "execution_count": 82,
      "outputs": []
    },
    {
      "cell_type": "code",
      "source": [
        "%%time\n",
        "minibkmeans = MiniBatchKMeans(n_clusters=2, init='k-means++', n_init=10, max_iter=100, tol=0.0001, batch_size=2048).fit(X_Train2)"
      ],
      "metadata": {
        "colab": {
          "base_uri": "https://localhost:8080/"
        },
        "id": "AoXWxpGV_Dby",
        "outputId": "a2c13fe5-ea99-4c99-bdb4-d2f08a0035ee"
      },
      "execution_count": 83,
      "outputs": [
        {
          "output_type": "stream",
          "name": "stdout",
          "text": [
            "CPU times: user 360 ms, sys: 156 ms, total: 516 ms\n",
            "Wall time: 338 ms\n"
          ]
        }
      ]
    },
    {
      "cell_type": "code",
      "source": [
        "X_Train2[\"Y_pred\"] = minibkmeans.labels_\n",
        "X_Test2[\"Y_pred\"] = minibkmeans.predict(X_Test2)\n",
        "\n",
        "metrics.adjusted_rand_score(y_Test, X_Test[\"Y_pred\"]), metrics.calinski_harabasz_score(X_Test, X_Test[\"Y_pred\"]), metrics.davies_bouldin_score(X_Test, X_Test[\"Y_pred\"])"
      ],
      "metadata": {
        "colab": {
          "base_uri": "https://localhost:8080/"
        },
        "id": "5sEoYcsJ-OEf",
        "outputId": "fa531ed7-c706-462d-9d96-b17db812a95b"
      },
      "execution_count": 84,
      "outputs": [
        {
          "output_type": "execute_result",
          "data": {
            "text/plain": [
              "(0.369154237629322, 76533.27527491088, 1.7168628196864042)"
            ]
          },
          "metadata": {},
          "execution_count": 84
        }
      ]
    },
    {
      "cell_type": "markdown",
      "source": [
        "Як бачимо, розбиття не є стабільним.\n",
        "Якість роботи моделей не дуже хороша, схоже що KMeans - не найкращий алгоритм для таких даних"
      ],
      "metadata": {
        "id": "7FhsWqeDAWTZ"
      }
    }
  ],
  "metadata": {
    "colab": {
      "toc_visible": true,
      "provenance": []
    },
    "kernelspec": {
      "display_name": "Python 3",
      "name": "python3"
    },
    "language_info": {
      "name": "python"
    }
  },
  "nbformat": 4,
  "nbformat_minor": 0
}