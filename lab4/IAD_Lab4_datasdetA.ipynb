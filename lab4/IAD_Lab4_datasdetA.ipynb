{
  "cells": [
    {
      "cell_type": "markdown",
      "metadata": {
        "id": "WfrvHokOWefm"
      },
      "source": [
        "# Лабораторна робота №4: Кластеризацiя засобами бiблiотеки Scikit-Learn Python\n",
        "Варіант 24\n",
        "\n",
        "### Звiт має мiстити:\n",
        "• Результати по кожному пункту ходу виконання роботи, в тому числi\n",
        "порiвняльний аналiз кiлькох моделей,\n",
        "\n",
        "• Опис методу кластеризацiї, який використовувався,\n",
        "\n",
        "• Опис метрик якостi кластеризацiї, за якими порiвнювалися моделi.\n",
        "\n",
        "Бажано опрацювати матерiал https://scikit-learn.org/stable/modules/clustering.html. За цим посиланням є описи методiв кластеризацiї, якi не увiйшли до\n",
        "лекцiй, приклади використання методiв, опис метрик якостi. Заданi за варiантом набори даних розглядати без еталонних значень цiльової змiнної пiд час виконання кластеризацiї даних. Еталоннi значення цiльової змiнної можуть бути використанi при розрахунку окремих метрик якостi кластеризацiї.\n",
        "\n",
        "### Хiд виконання роботи:\n",
        "\n",
        "1. Представити початковi данi графiчно.\n",
        "2. Побудувати модель кластеризацiї згiдно з варiантом.\n",
        "3. Виконати кластеризацiю даних на основi моделi.\n",
        "4. Представити розбиття на кластери графiчно, наприклад, рiзними кольорами.\n",
        "5. Розрахувати час кластеризацiї. Оцiнити швидкодiю методу на надвеликих наборах даних (наприклад, при збiльшеннi кiлькостi точок даних до мiльйона).\n",
        "\n",
        "6. Побудувати кiлька альтернативних моделей:\n",
        "\n",
        "• шляхом змiни значень параметрiв основної моделi,\n",
        "\n",
        "• використати рiзнi функцiї вiдстанi в алгоритмах, де це можна зробити,\n",
        "\n",
        "• задати рiзнi значення кiлькостi кластерiв, в алгоритмах де кiлькiсть\n",
        "кластерiв - параметр.\n",
        "\n",
        "7. Для кожної альтернативної моделi розрахувати метрики якостi кластеризацiї, що реалiзованi в модулi sklearn.metrics (тiльки метрики згiдно з варiантом)\n",
        "\n",
        "8. Виконати аналiз результатiв кластеризацiї одним з неформальних методiв (тiльки методом згiдно з варiантом):\n",
        "\n",
        "9. Зробити висновки про якiсть роботи моделей на дослiджених даних та\n",
        "про швидкодiю методу.\n",
        "\n",
        "10. Оцiнити результати кластеризацiї на основi метрик якостi та на основi\n",
        "неформальних методiв. У кожному варiантi задано два набори даних. Спробувати пiдiбрати найкращу модель кластеризацiї для кожного набору даних.\n",
        "\n",
        "## Завдання\n",
        "\n",
        "Алгоритм k-середнiх, використати `cluster.KMeans` i `cluster.MiniBatchKMeans`.\n",
        "Вiдобразити графiчно центри кластерiв.\n",
        "\n",
        "Метрики якостi: `Adjusted Rand Index`, `Calinski-Harabasz Index`, `Davies-\n",
        "Bouldin index`.\n",
        "\n",
        "Чи є розбиття стабiльним на пiдвибiрках даних?"
      ]
    },
    {
      "cell_type": "markdown",
      "metadata": {
        "id": "Vk9XS1DkewGj"
      },
      "source": [
        "# Import Libraries & Load Data"
      ]
    },
    {
      "cell_type": "code",
      "execution_count": 173,
      "metadata": {
        "id": "TzHetp2qP2WV"
      },
      "outputs": [],
      "source": [
        "import numpy as np\n",
        "import pandas as pd\n",
        "import matplotlib.pyplot as plt\n",
        "import seaborn as sns\n",
        "\n",
        "from sklearn.datasets import make_moons\n",
        "from sklearn.cluster import KMeans\n",
        "from sklearn.cluster import MiniBatchKMeans\n",
        "from sklearn import metrics\n"
      ]
    },
    {
      "cell_type": "code",
      "execution_count": 110,
      "metadata": {
        "id": "G8yISnohe12V"
      },
      "outputs": [],
      "source": [
        "# dataset A\n",
        "X, Y = make_moons(n_samples=500)"
      ]
    },
    {
      "cell_type": "code",
      "execution_count": 111,
      "metadata": {
        "id": "KH_yyBPLgeG3"
      },
      "outputs": [],
      "source": [
        "X = pd.DataFrame(X)\n",
        "Y = pd.DataFrame(Y)"
      ]
    },
    {
      "cell_type": "code",
      "execution_count": 112,
      "metadata": {
        "colab": {
          "base_uri": "https://localhost:8080/"
        },
        "id": "rbVJlbvekT6B",
        "outputId": "04a1483e-bda8-4ff6-ac7b-a215157e1710"
      },
      "outputs": [
        {
          "output_type": "execute_result",
          "data": {
            "text/plain": [
              "((500, 2), (500, 1))"
            ]
          },
          "metadata": {},
          "execution_count": 112
        }
      ],
      "source": [
        "X.shape, Y.shape"
      ]
    },
    {
      "cell_type": "code",
      "execution_count": 113,
      "metadata": {
        "colab": {
          "base_uri": "https://localhost:8080/",
          "height": 206
        },
        "id": "-sWOcN5ilkUp",
        "outputId": "4aa903e3-7e4f-44ec-f734-b6b41add5518"
      },
      "outputs": [
        {
          "output_type": "execute_result",
          "data": {
            "text/plain": [
              "         X1        X2  Y\n",
              "0  0.893003  0.450051  0\n",
              "1 -0.584719  0.811236  0\n",
              "2  1.999920  0.487383  1\n",
              "3 -0.691323  0.722546  0\n",
              "4  0.281830 -0.195867  1"
            ],
            "text/html": [
              "\n",
              "  <div id=\"df-50261904-5bd4-43f8-aef6-9c26f9565450\">\n",
              "    <div class=\"colab-df-container\">\n",
              "      <div>\n",
              "<style scoped>\n",
              "    .dataframe tbody tr th:only-of-type {\n",
              "        vertical-align: middle;\n",
              "    }\n",
              "\n",
              "    .dataframe tbody tr th {\n",
              "        vertical-align: top;\n",
              "    }\n",
              "\n",
              "    .dataframe thead th {\n",
              "        text-align: right;\n",
              "    }\n",
              "</style>\n",
              "<table border=\"1\" class=\"dataframe\">\n",
              "  <thead>\n",
              "    <tr style=\"text-align: right;\">\n",
              "      <th></th>\n",
              "      <th>X1</th>\n",
              "      <th>X2</th>\n",
              "      <th>Y</th>\n",
              "    </tr>\n",
              "  </thead>\n",
              "  <tbody>\n",
              "    <tr>\n",
              "      <th>0</th>\n",
              "      <td>0.893003</td>\n",
              "      <td>0.450051</td>\n",
              "      <td>0</td>\n",
              "    </tr>\n",
              "    <tr>\n",
              "      <th>1</th>\n",
              "      <td>-0.584719</td>\n",
              "      <td>0.811236</td>\n",
              "      <td>0</td>\n",
              "    </tr>\n",
              "    <tr>\n",
              "      <th>2</th>\n",
              "      <td>1.999920</td>\n",
              "      <td>0.487383</td>\n",
              "      <td>1</td>\n",
              "    </tr>\n",
              "    <tr>\n",
              "      <th>3</th>\n",
              "      <td>-0.691323</td>\n",
              "      <td>0.722546</td>\n",
              "      <td>0</td>\n",
              "    </tr>\n",
              "    <tr>\n",
              "      <th>4</th>\n",
              "      <td>0.281830</td>\n",
              "      <td>-0.195867</td>\n",
              "      <td>1</td>\n",
              "    </tr>\n",
              "  </tbody>\n",
              "</table>\n",
              "</div>\n",
              "      <button class=\"colab-df-convert\" onclick=\"convertToInteractive('df-50261904-5bd4-43f8-aef6-9c26f9565450')\"\n",
              "              title=\"Convert this dataframe to an interactive table.\"\n",
              "              style=\"display:none;\">\n",
              "        \n",
              "  <svg xmlns=\"http://www.w3.org/2000/svg\" height=\"24px\"viewBox=\"0 0 24 24\"\n",
              "       width=\"24px\">\n",
              "    <path d=\"M0 0h24v24H0V0z\" fill=\"none\"/>\n",
              "    <path d=\"M18.56 5.44l.94 2.06.94-2.06 2.06-.94-2.06-.94-.94-2.06-.94 2.06-2.06.94zm-11 1L8.5 8.5l.94-2.06 2.06-.94-2.06-.94L8.5 2.5l-.94 2.06-2.06.94zm10 10l.94 2.06.94-2.06 2.06-.94-2.06-.94-.94-2.06-.94 2.06-2.06.94z\"/><path d=\"M17.41 7.96l-1.37-1.37c-.4-.4-.92-.59-1.43-.59-.52 0-1.04.2-1.43.59L10.3 9.45l-7.72 7.72c-.78.78-.78 2.05 0 2.83L4 21.41c.39.39.9.59 1.41.59.51 0 1.02-.2 1.41-.59l7.78-7.78 2.81-2.81c.8-.78.8-2.07 0-2.86zM5.41 20L4 18.59l7.72-7.72 1.47 1.35L5.41 20z\"/>\n",
              "  </svg>\n",
              "      </button>\n",
              "      \n",
              "  <style>\n",
              "    .colab-df-container {\n",
              "      display:flex;\n",
              "      flex-wrap:wrap;\n",
              "      gap: 12px;\n",
              "    }\n",
              "\n",
              "    .colab-df-convert {\n",
              "      background-color: #E8F0FE;\n",
              "      border: none;\n",
              "      border-radius: 50%;\n",
              "      cursor: pointer;\n",
              "      display: none;\n",
              "      fill: #1967D2;\n",
              "      height: 32px;\n",
              "      padding: 0 0 0 0;\n",
              "      width: 32px;\n",
              "    }\n",
              "\n",
              "    .colab-df-convert:hover {\n",
              "      background-color: #E2EBFA;\n",
              "      box-shadow: 0px 1px 2px rgba(60, 64, 67, 0.3), 0px 1px 3px 1px rgba(60, 64, 67, 0.15);\n",
              "      fill: #174EA6;\n",
              "    }\n",
              "\n",
              "    [theme=dark] .colab-df-convert {\n",
              "      background-color: #3B4455;\n",
              "      fill: #D2E3FC;\n",
              "    }\n",
              "\n",
              "    [theme=dark] .colab-df-convert:hover {\n",
              "      background-color: #434B5C;\n",
              "      box-shadow: 0px 1px 3px 1px rgba(0, 0, 0, 0.15);\n",
              "      filter: drop-shadow(0px 1px 2px rgba(0, 0, 0, 0.3));\n",
              "      fill: #FFFFFF;\n",
              "    }\n",
              "  </style>\n",
              "\n",
              "      <script>\n",
              "        const buttonEl =\n",
              "          document.querySelector('#df-50261904-5bd4-43f8-aef6-9c26f9565450 button.colab-df-convert');\n",
              "        buttonEl.style.display =\n",
              "          google.colab.kernel.accessAllowed ? 'block' : 'none';\n",
              "\n",
              "        async function convertToInteractive(key) {\n",
              "          const element = document.querySelector('#df-50261904-5bd4-43f8-aef6-9c26f9565450');\n",
              "          const dataTable =\n",
              "            await google.colab.kernel.invokeFunction('convertToInteractive',\n",
              "                                                     [key], {});\n",
              "          if (!dataTable) return;\n",
              "\n",
              "          const docLinkHtml = 'Like what you see? Visit the ' +\n",
              "            '<a target=\"_blank\" href=https://colab.research.google.com/notebooks/data_table.ipynb>data table notebook</a>'\n",
              "            + ' to learn more about interactive tables.';\n",
              "          element.innerHTML = '';\n",
              "          dataTable['output_type'] = 'display_data';\n",
              "          await google.colab.output.renderOutput(dataTable, element);\n",
              "          const docLink = document.createElement('div');\n",
              "          docLink.innerHTML = docLinkHtml;\n",
              "          element.appendChild(docLink);\n",
              "        }\n",
              "      </script>\n",
              "    </div>\n",
              "  </div>\n",
              "  "
            ]
          },
          "metadata": {},
          "execution_count": 113
        }
      ],
      "source": [
        "data = pd.concat([X,Y], axis=1, join=\"inner\")\n",
        "data.columns = ['X1','X2','Y']\n",
        "data.head()"
      ]
    },
    {
      "cell_type": "markdown",
      "metadata": {
        "id": "OwAK36AriNTJ"
      },
      "source": [
        "# Exploratory Data Analysis (Data Visualization)"
      ]
    },
    {
      "cell_type": "code",
      "execution_count": 70,
      "metadata": {
        "colab": {
          "base_uri": "https://localhost:8080/",
          "height": 248
        },
        "id": "XAIHRm77kZHE",
        "outputId": "7de2c4b4-54ae-4cbc-faea-dfa93c27b763"
      },
      "outputs": [
        {
          "output_type": "display_data",
          "data": {
            "text/plain": [
              "<Figure size 432x288 with 1 Axes>"
            ],
            "image/png": "[encoded data removed]"
          },
          "metadata": {
            "needs_background": "light"
          }
        }
      ],
      "source": [
        "fig = plt.figure()\n",
        "ax = plt.axes(projection='3d')\n",
        "ax.scatter3D(data['X1'].to_numpy(), data['X2'].to_numpy(), data['Y'].to_numpy(), c=\"b\")\n",
        "ax.set_xlabel('X1')\n",
        "ax.set_ylabel('X2')\n",
        "ax.set_zlabel('Y')\n",
        "ax.view_init(elev=30, azim = 30)\n",
        "plt.show()"
      ]
    },
    {
      "cell_type": "code",
      "execution_count": 71,
      "metadata": {
        "colab": {
          "base_uri": "https://localhost:8080/",
          "height": 300
        },
        "id": "E8dxm3LloMH0",
        "outputId": "cc0505fd-0626-41c1-8636-cfb71a0a1799"
      },
      "outputs": [
        {
          "output_type": "execute_result",
          "data": {
            "text/plain": [
              "               X1          X2           Y\n",
              "count  500.000000  500.000000  500.000000\n",
              "mean     0.500000    0.250000    0.500000\n",
              "std      0.868048    0.493918    0.500501\n",
              "min     -1.000000   -0.499980    0.000000\n",
              "25%     -0.001577   -0.204873    0.000000\n",
              "50%      0.500000    0.250000    0.500000\n",
              "75%      1.001577    0.704873    1.000000\n",
              "max      2.000000    0.999980    1.000000"
            ],
            "text/html": [
              "\n",
              "  <div id=\"df-b2a2cf23-0ff9-499a-874c-6441bafdb6a2\">\n",
              "    <div class=\"colab-df-container\">\n",
              "      <div>\n",
              "<style scoped>\n",
              "    .dataframe tbody tr th:only-of-type {\n",
              "        vertical-align: middle;\n",
              "    }\n",
              "\n",
              "    .dataframe tbody tr th {\n",
              "        vertical-align: top;\n",
              "    }\n",
              "\n",
              "    .dataframe thead th {\n",
              "        text-align: right;\n",
              "    }\n",
              "</style>\n",
              "<table border=\"1\" class=\"dataframe\">\n",
              "  <thead>\n",
              "    <tr style=\"text-align: right;\">\n",
              "      <th></th>\n",
              "      <th>X1</th>\n",
              "      <th>X2</th>\n",
              "      <th>Y</th>\n",
              "    </tr>\n",
              "  </thead>\n",
              "  <tbody>\n",
              "    <tr>\n",
              "      <th>count</th>\n",
              "      <td>500.000000</td>\n",
              "      <td>500.000000</td>\n",
              "      <td>500.000000</td>\n",
              "    </tr>\n",
              "    <tr>\n",
              "      <th>mean</th>\n",
              "      <td>0.500000</td>\n",
              "      <td>0.250000</td>\n",
              "      <td>0.500000</td>\n",
              "    </tr>\n",
              "    <tr>\n",
              "      <th>std</th>\n",
              "      <td>0.868048</td>\n",
              "      <td>0.493918</td>\n",
              "      <td>0.500501</td>\n",
              "    </tr>\n",
              "    <tr>\n",
              "      <th>min</th>\n",
              "      <td>-1.000000</td>\n",
              "      <td>-0.499980</td>\n",
              "      <td>0.000000</td>\n",
              "    </tr>\n",
              "    <tr>\n",
              "      <th>25%</th>\n",
              "      <td>-0.001577</td>\n",
              "      <td>-0.204873</td>\n",
              "      <td>0.000000</td>\n",
              "    </tr>\n",
              "    <tr>\n",
              "      <th>50%</th>\n",
              "      <td>0.500000</td>\n",
              "      <td>0.250000</td>\n",
              "      <td>0.500000</td>\n",
              "    </tr>\n",
              "    <tr>\n",
              "      <th>75%</th>\n",
              "      <td>1.001577</td>\n",
              "      <td>0.704873</td>\n",
              "      <td>1.000000</td>\n",
              "    </tr>\n",
              "    <tr>\n",
              "      <th>max</th>\n",
              "      <td>2.000000</td>\n",
              "      <td>0.999980</td>\n",
              "      <td>1.000000</td>\n",
              "    </tr>\n",
              "  </tbody>\n",
              "</table>\n",
              "</div>\n",
              "      <button class=\"colab-df-convert\" onclick=\"convertToInteractive('df-b2a2cf23-0ff9-499a-874c-6441bafdb6a2')\"\n",
              "              title=\"Convert this dataframe to an interactive table.\"\n",
              "              style=\"display:none;\">\n",
              "        \n",
              "  <svg xmlns=\"http://www.w3.org/2000/svg\" height=\"24px\"viewBox=\"0 0 24 24\"\n",
              "       width=\"24px\">\n",
              "    <path d=\"M0 0h24v24H0V0z\" fill=\"none\"/>\n",
              "    <path d=\"M18.56 5.44l.94 2.06.94-2.06 2.06-.94-2.06-.94-.94-2.06-.94 2.06-2.06.94zm-11 1L8.5 8.5l.94-2.06 2.06-.94-2.06-.94L8.5 2.5l-.94 2.06-2.06.94zm10 10l.94 2.06.94-2.06 2.06-.94-2.06-.94-.94-2.06-.94 2.06-2.06.94z\"/><path d=\"M17.41 7.96l-1.37-1.37c-.4-.4-.92-.59-1.43-.59-.52 0-1.04.2-1.43.59L10.3 9.45l-7.72 7.72c-.78.78-.78 2.05 0 2.83L4 21.41c.39.39.9.59 1.41.59.51 0 1.02-.2 1.41-.59l7.78-7.78 2.81-2.81c.8-.78.8-2.07 0-2.86zM5.41 20L4 18.59l7.72-7.72 1.47 1.35L5.41 20z\"/>\n",
              "  </svg>\n",
              "      </button>\n",
              "      \n",
              "  <style>\n",
              "    .colab-df-container {\n",
              "      display:flex;\n",
              "      flex-wrap:wrap;\n",
              "      gap: 12px;\n",
              "    }\n",
              "\n",
              "    .colab-df-convert {\n",
              "      background-color: #E8F0FE;\n",
              "      border: none;\n",
              "      border-radius: 50%;\n",
              "      cursor: pointer;\n",
              "      display: none;\n",
              "      fill: #1967D2;\n",
              "      height: 32px;\n",
              "      padding: 0 0 0 0;\n",
              "      width: 32px;\n",
              "    }\n",
              "\n",
              "    .colab-df-convert:hover {\n",
              "      background-color: #E2EBFA;\n",
              "      box-shadow: 0px 1px 2px rgba(60, 64, 67, 0.3), 0px 1px 3px 1px rgba(60, 64, 67, 0.15);\n",
              "      fill: #174EA6;\n",
              "    }\n",
              "\n",
              "    [theme=dark] .colab-df-convert {\n",
              "      background-color: #3B4455;\n",
              "      fill: #D2E3FC;\n",
              "    }\n",
              "\n",
              "    [theme=dark] .colab-df-convert:hover {\n",
              "      background-color: #434B5C;\n",
              "      box-shadow: 0px 1px 3px 1px rgba(0, 0, 0, 0.15);\n",
              "      filter: drop-shadow(0px 1px 2px rgba(0, 0, 0, 0.3));\n",
              "      fill: #FFFFFF;\n",
              "    }\n",
              "  </style>\n",
              "\n",
              "      <script>\n",
              "        const buttonEl =\n",
              "          document.querySelector('#df-b2a2cf23-0ff9-499a-874c-6441bafdb6a2 button.colab-df-convert');\n",
              "        buttonEl.style.display =\n",
              "          google.colab.kernel.accessAllowed ? 'block' : 'none';\n",
              "\n",
              "        async function convertToInteractive(key) {\n",
              "          const element = document.querySelector('#df-b2a2cf23-0ff9-499a-874c-6441bafdb6a2');\n",
              "          const dataTable =\n",
              "            await google.colab.kernel.invokeFunction('convertToInteractive',\n",
              "                                                     [key], {});\n",
              "          if (!dataTable) return;\n",
              "\n",
              "          const docLinkHtml = 'Like what you see? Visit the ' +\n",
              "            '<a target=\"_blank\" href=https://colab.research.google.com/notebooks/data_table.ipynb>data table notebook</a>'\n",
              "            + ' to learn more about interactive tables.';\n",
              "          element.innerHTML = '';\n",
              "          dataTable['output_type'] = 'display_data';\n",
              "          await google.colab.output.renderOutput(dataTable, element);\n",
              "          const docLink = document.createElement('div');\n",
              "          docLink.innerHTML = docLinkHtml;\n",
              "          element.appendChild(docLink);\n",
              "        }\n",
              "      </script>\n",
              "    </div>\n",
              "  </div>\n",
              "  "
            ]
          },
          "metadata": {},
          "execution_count": 71
        }
      ],
      "source": [
        "data.describe()"
      ]
    },
    {
      "cell_type": "markdown",
      "metadata": {
        "id": "9szPdB2PuC5q"
      },
      "source": [
        "Дізнаємося, які класи присутні в даних"
      ]
    },
    {
      "cell_type": "code",
      "execution_count": 72,
      "metadata": {
        "colab": {
          "base_uri": "https://localhost:8080/"
        },
        "id": "EjGQHDdWtsFt",
        "outputId": "dc8f2a2a-d0fc-46a5-fe31-701f04550620"
      },
      "outputs": [
        {
          "output_type": "execute_result",
          "data": {
            "text/plain": [
              "0    250\n",
              "1    250\n",
              "Name: Y, dtype: int64"
            ]
          },
          "metadata": {},
          "execution_count": 72
        }
      ],
      "source": [
        "data['Y'].value_counts()"
      ]
    },
    {
      "cell_type": "markdown",
      "source": [
        "Як бачимо, наш датасет збалансований"
      ],
      "metadata": {
        "id": "4fivd71WWlrk"
      }
    },
    {
      "cell_type": "code",
      "execution_count": 73,
      "metadata": {
        "colab": {
          "base_uri": "https://localhost:8080/",
          "height": 803
        },
        "id": "pEXAGh51oUCj",
        "outputId": "ea6858f2-086a-4227-cf66-402401923884"
      },
      "outputs": [
        {
          "output_type": "display_data",
          "data": {
            "text/plain": [
              "<Figure size 432x288 with 1 Axes>"
            ],
            "image/png": "[encoded data removed]"
          },
          "metadata": {
            "needs_background": "light"
          }
        },
        {
          "output_type": "display_data",
          "data": {
            "text/plain": [
              "<Figure size 432x288 with 1 Axes>"
            ],
            "image/png": "[encoded data removed]"
          },
          "metadata": {
            "needs_background": "light"
          }
        },
        {
          "output_type": "display_data",
          "data": {
            "text/plain": [
              "<Figure size 432x288 with 1 Axes>"
            ],
            "image/png": "[encoded data removed]"
          },
          "metadata": {
            "needs_background": "light"
          }
        }
      ],
      "source": [
        "plt.plot(data.X1, data.Y, 'ro', label = 'X1, Y')\n",
        "plt.xlabel('X1')\n",
        "plt.ylabel('Y')\n",
        "plt.grid(True)\n",
        "plt.show()\n",
        "\n",
        "plt.plot(data.X2, data.Y, 'bo', label = 'X2, Y')\n",
        "plt.xlabel('X2')\n",
        "plt.ylabel('Y')\n",
        "plt.grid(True)\n",
        "plt.show()\n",
        "\n",
        "plt.plot(data.X1, data.X2, 'ko', label = 'X1, X2')\n",
        "plt.xlabel('X1')\n",
        "plt.ylabel('X2')\n",
        "plt.grid(True)\n",
        "plt.show()"
      ]
    },
    {
      "cell_type": "code",
      "execution_count": 74,
      "metadata": {
        "colab": {
          "base_uri": "https://localhost:8080/",
          "height": 144
        },
        "id": "jZBhDzG1qEAT",
        "outputId": "9115dd15-f579-40b3-8542-daf4f01165be"
      },
      "outputs": [
        {
          "output_type": "execute_result",
          "data": {
            "text/plain": [
              "          X1        X2         Y\n",
              "X1  1.000000 -0.448792  0.576582\n",
              "X2 -0.448792  1.000000 -0.778366\n",
              "Y   0.576582 -0.778366  1.000000"
            ],
            "text/html": [
              "\n",
              "  <div id=\"df-9f3155e3-3f78-453b-9bd0-39875e203e2c\">\n",
              "    <div class=\"colab-df-container\">\n",
              "      <div>\n",
              "<style scoped>\n",
              "    .dataframe tbody tr th:only-of-type {\n",
              "        vertical-align: middle;\n",
              "    }\n",
              "\n",
              "    .dataframe tbody tr th {\n",
              "        vertical-align: top;\n",
              "    }\n",
              "\n",
              "    .dataframe thead th {\n",
              "        text-align: right;\n",
              "    }\n",
              "</style>\n",
              "<table border=\"1\" class=\"dataframe\">\n",
              "  <thead>\n",
              "    <tr style=\"text-align: right;\">\n",
              "      <th></th>\n",
              "      <th>X1</th>\n",
              "      <th>X2</th>\n",
              "      <th>Y</th>\n",
              "    </tr>\n",
              "  </thead>\n",
              "  <tbody>\n",
              "    <tr>\n",
              "      <th>X1</th>\n",
              "      <td>1.000000</td>\n",
              "      <td>-0.448792</td>\n",
              "      <td>0.576582</td>\n",
              "    </tr>\n",
              "    <tr>\n",
              "      <th>X2</th>\n",
              "      <td>-0.448792</td>\n",
              "      <td>1.000000</td>\n",
              "      <td>-0.778366</td>\n",
              "    </tr>\n",
              "    <tr>\n",
              "      <th>Y</th>\n",
              "      <td>0.576582</td>\n",
              "      <td>-0.778366</td>\n",
              "      <td>1.000000</td>\n",
              "    </tr>\n",
              "  </tbody>\n",
              "</table>\n",
              "</div>\n",
              "      <button class=\"colab-df-convert\" onclick=\"convertToInteractive('df-9f3155e3-3f78-453b-9bd0-39875e203e2c')\"\n",
              "              title=\"Convert this dataframe to an interactive table.\"\n",
              "              style=\"display:none;\">\n",
              "        \n",
              "  <svg xmlns=\"http://www.w3.org/2000/svg\" height=\"24px\"viewBox=\"0 0 24 24\"\n",
              "       width=\"24px\">\n",
              "    <path d=\"M0 0h24v24H0V0z\" fill=\"none\"/>\n",
              "    <path d=\"M18.56 5.44l.94 2.06.94-2.06 2.06-.94-2.06-.94-.94-2.06-.94 2.06-2.06.94zm-11 1L8.5 8.5l.94-2.06 2.06-.94-2.06-.94L8.5 2.5l-.94 2.06-2.06.94zm10 10l.94 2.06.94-2.06 2.06-.94-2.06-.94-.94-2.06-.94 2.06-2.06.94z\"/><path d=\"M17.41 7.96l-1.37-1.37c-.4-.4-.92-.59-1.43-.59-.52 0-1.04.2-1.43.59L10.3 9.45l-7.72 7.72c-.78.78-.78 2.05 0 2.83L4 21.41c.39.39.9.59 1.41.59.51 0 1.02-.2 1.41-.59l7.78-7.78 2.81-2.81c.8-.78.8-2.07 0-2.86zM5.41 20L4 18.59l7.72-7.72 1.47 1.35L5.41 20z\"/>\n",
              "  </svg>\n",
              "      </button>\n",
              "      \n",
              "  <style>\n",
              "    .colab-df-container {\n",
              "      display:flex;\n",
              "      flex-wrap:wrap;\n",
              "      gap: 12px;\n",
              "    }\n",
              "\n",
              "    .colab-df-convert {\n",
              "      background-color: #E8F0FE;\n",
              "      border: none;\n",
              "      border-radius: 50%;\n",
              "      cursor: pointer;\n",
              "      display: none;\n",
              "      fill: #1967D2;\n",
              "      height: 32px;\n",
              "      padding: 0 0 0 0;\n",
              "      width: 32px;\n",
              "    }\n",
              "\n",
              "    .colab-df-convert:hover {\n",
              "      background-color: #E2EBFA;\n",
              "      box-shadow: 0px 1px 2px rgba(60, 64, 67, 0.3), 0px 1px 3px 1px rgba(60, 64, 67, 0.15);\n",
              "      fill: #174EA6;\n",
              "    }\n",
              "\n",
              "    [theme=dark] .colab-df-convert {\n",
              "      background-color: #3B4455;\n",
              "      fill: #D2E3FC;\n",
              "    }\n",
              "\n",
              "    [theme=dark] .colab-df-convert:hover {\n",
              "      background-color: #434B5C;\n",
              "      box-shadow: 0px 1px 3px 1px rgba(0, 0, 0, 0.15);\n",
              "      filter: drop-shadow(0px 1px 2px rgba(0, 0, 0, 0.3));\n",
              "      fill: #FFFFFF;\n",
              "    }\n",
              "  </style>\n",
              "\n",
              "      <script>\n",
              "        const buttonEl =\n",
              "          document.querySelector('#df-9f3155e3-3f78-453b-9bd0-39875e203e2c button.colab-df-convert');\n",
              "        buttonEl.style.display =\n",
              "          google.colab.kernel.accessAllowed ? 'block' : 'none';\n",
              "\n",
              "        async function convertToInteractive(key) {\n",
              "          const element = document.querySelector('#df-9f3155e3-3f78-453b-9bd0-39875e203e2c');\n",
              "          const dataTable =\n",
              "            await google.colab.kernel.invokeFunction('convertToInteractive',\n",
              "                                                     [key], {});\n",
              "          if (!dataTable) return;\n",
              "\n",
              "          const docLinkHtml = 'Like what you see? Visit the ' +\n",
              "            '<a target=\"_blank\" href=https://colab.research.google.com/notebooks/data_table.ipynb>data table notebook</a>'\n",
              "            + ' to learn more about interactive tables.';\n",
              "          element.innerHTML = '';\n",
              "          dataTable['output_type'] = 'display_data';\n",
              "          await google.colab.output.renderOutput(dataTable, element);\n",
              "          const docLink = document.createElement('div');\n",
              "          docLink.innerHTML = docLinkHtml;\n",
              "          element.appendChild(docLink);\n",
              "        }\n",
              "      </script>\n",
              "    </div>\n",
              "  </div>\n",
              "  "
            ]
          },
          "metadata": {},
          "execution_count": 74
        }
      ],
      "source": [
        "data.corr()"
      ]
    },
    {
      "cell_type": "code",
      "execution_count": 75,
      "metadata": {
        "colab": {
          "base_uri": "https://localhost:8080/",
          "height": 374
        },
        "id": "Xz8RZm5Dukpb",
        "outputId": "608c6110-5321-4a25-a243-9966977cd514"
      },
      "outputs": [
        {
          "output_type": "display_data",
          "data": {
            "text/plain": [
              "<Figure size 402.375x360 with 6 Axes>"
            ],
            "image/png": "[encoded data removed]"
          },
          "metadata": {
            "needs_background": "light"
          }
        }
      ],
      "source": [
        "sns.pairplot(data=data, hue='Y')\n",
        "plt.show()"
      ]
    },
    {
      "cell_type": "markdown",
      "metadata": {
        "id": "xhvMLt66rCEM"
      },
      "source": [
        "# Split data into train and test"
      ]
    },
    {
      "cell_type": "code",
      "execution_count": 114,
      "metadata": {
        "id": "OpV-dXPrrBR2"
      },
      "outputs": [],
      "source": [
        "def split_data(X, y, fraction):\n",
        "    split = np.random.rand(X.shape[0]) > fraction\n",
        "\n",
        "    X_Train = X[split]\n",
        "    y_Train = y[split]\n",
        "    X_Test =  X[~split]\n",
        "    y_Test = y[~split]\n",
        "\n",
        "    return X_Train, y_Train, X_Test, y_Test"
      ]
    },
    {
      "cell_type": "code",
      "execution_count": 115,
      "metadata": {
        "id": "tioEZhbjsbQX"
      },
      "outputs": [],
      "source": [
        "X_Train, y_Train, X_Test, y_Test = split_data(data[['X1', 'X2']], data['Y'], fraction = 0.1)"
      ]
    },
    {
      "cell_type": "code",
      "execution_count": 116,
      "metadata": {
        "colab": {
          "base_uri": "https://localhost:8080/"
        },
        "id": "In4aroMVso5b",
        "outputId": "862a7e60-c728-419a-e530-b34c21d8eb67"
      },
      "outputs": [
        {
          "output_type": "execute_result",
          "data": {
            "text/plain": [
              "((449, 2), (449,), (51, 2), (51,))"
            ]
          },
          "metadata": {},
          "execution_count": 116
        }
      ],
      "source": [
        "X_Train.shape, y_Train.shape, X_Test.shape, y_Test.shape"
      ]
    },
    {
      "cell_type": "markdown",
      "source": [
        "# Build KMeans clustering model"
      ],
      "metadata": {
        "id": "9DkRSgiroZjk"
      }
    },
    {
      "cell_type": "code",
      "source": [
        "%%time\n",
        "kmeans = KMeans(n_clusters=2, random_state=0).fit(X_Train)"
      ],
      "metadata": {
        "colab": {
          "base_uri": "https://localhost:8080/"
        },
        "id": "EE8swWGIolM6",
        "outputId": "fd161911-895c-4ab3-8ab0-92c5650b3b40"
      },
      "execution_count": 117,
      "outputs": [
        {
          "output_type": "stream",
          "name": "stdout",
          "text": [
            "CPU times: user 71.1 ms, sys: 0 ns, total: 71.1 ms\n",
            "Wall time: 42.8 ms\n"
          ]
        }
      ]
    },
    {
      "cell_type": "code",
      "source": [
        "X_Train[\"Y_pred\"] = kmeans.labels_\n",
        "X_Test[\"Y_pred\"] = kmeans.predict(X_Test)"
      ],
      "metadata": {
        "id": "ieha8lttqNXH"
      },
      "execution_count": 119,
      "outputs": []
    },
    {
      "cell_type": "code",
      "source": [
        "kmeans.cluster_centers_"
      ],
      "metadata": {
        "colab": {
          "base_uri": "https://localhost:8080/"
        },
        "id": "D_K_k_R6rJFV",
        "outputId": "592a6fc6-8662-40ab-fa84-a0aad31b56bd"
      },
      "execution_count": 120,
      "outputs": [
        {
          "output_type": "execute_result",
          "data": {
            "text/plain": [
              "array([[-0.1874605 ,  0.58446924],\n",
              "       [ 1.19117242, -0.09710371]])"
            ]
          },
          "metadata": {},
          "execution_count": 120
        }
      ]
    },
    {
      "cell_type": "markdown",
      "source": [
        "Зобразимо центри кластерів:"
      ],
      "metadata": {
        "id": "gJagbJ8Ysqm5"
      }
    },
    {
      "cell_type": "code",
      "source": [
        "data0 = X_Train[X_Train[\"Y_pred\"] ==0]\n",
        "data1 = X_Train[X_Train[\"Y_pred\"] ==1]"
      ],
      "metadata": {
        "id": "H3hANLIlttBm"
      },
      "execution_count": 121,
      "outputs": []
    },
    {
      "cell_type": "code",
      "source": [
        "fig = plt.figure()\n",
        "ax = plt.axes(projection='3d')\n",
        "ax.scatter3D(data0['X1'].to_numpy(), data0['X2'].to_numpy(), data0['Y_pred'].to_numpy(), c=\"r\")\n",
        "ax.scatter3D(data1['X1'].to_numpy(), data1['X2'].to_numpy(), data1['Y_pred'].to_numpy(), c=\"b\")\n",
        "ax.scatter(kmeans.cluster_centers_[0][0],kmeans.cluster_centers_[0][1], 0 )\n",
        "ax.scatter(kmeans.cluster_centers_[1][0],kmeans.cluster_centers_[1][1], 1 )\n",
        "ax.set_xlabel('X1')\n",
        "ax.set_ylabel('X2')\n",
        "ax.set_zlabel('Y')\n",
        "ax.view_init(elev=30, azim = 30)\n",
        "plt.show()"
      ],
      "metadata": {
        "colab": {
          "base_uri": "https://localhost:8080/",
          "height": 248
        },
        "id": "1wbS_CLHrSoG",
        "outputId": "89b27418-07ac-4262-fb8a-bf50d61232ea"
      },
      "execution_count": 122,
      "outputs": [
        {
          "output_type": "display_data",
          "data": {
            "text/plain": [
              "<Figure size 432x288 with 1 Axes>"
            ],
            "image/png": "[encoded data removed]"
          },
          "metadata": {
            "needs_background": "light"
          }
        }
      ]
    },
    {
      "cell_type": "markdown",
      "source": [
        "# Build MiniBatchKMeans Clustering Model"
      ],
      "metadata": {
        "id": "ViaY6hvKutrF"
      }
    },
    {
      "cell_type": "code",
      "source": [
        "%%time\n",
        "minibkmeans = MiniBatchKMeans(n_clusters=2, random_state=0).fit(X_Train)"
      ],
      "metadata": {
        "colab": {
          "base_uri": "https://localhost:8080/"
        },
        "id": "mpnJGXb9utiS",
        "outputId": "155ffdcc-5669-4212-cef2-96038631381b"
      },
      "execution_count": 123,
      "outputs": [
        {
          "output_type": "stream",
          "name": "stdout",
          "text": [
            "CPU times: user 40.1 ms, sys: 0 ns, total: 40.1 ms\n",
            "Wall time: 32.2 ms\n"
          ]
        }
      ]
    },
    {
      "cell_type": "code",
      "source": [
        "X_Train[\"Y_pred2\"] = minibkmeans.labels_\n",
        "X_Test[\"Y_pred2\"] = minibkmeans.predict(X_Test)"
      ],
      "metadata": {
        "id": "RbIIUF3Ius2P"
      },
      "execution_count": 124,
      "outputs": []
    },
    {
      "cell_type": "code",
      "source": [
        "data0 = X_Train[X_Train[\"Y_pred2\"] ==0]\n",
        "data1 = X_Train[X_Train[\"Y_pred2\"] ==1]"
      ],
      "metadata": {
        "id": "T4q_af3FvOEi"
      },
      "execution_count": 125,
      "outputs": []
    },
    {
      "cell_type": "code",
      "source": [
        "fig = plt.figure()\n",
        "ax = plt.axes(projection='3d')\n",
        "ax.scatter3D(data0['X1'].to_numpy(), data0['X2'].to_numpy(), data0['Y_pred2'].to_numpy(), c=\"r\")\n",
        "ax.scatter3D(data1['X1'].to_numpy(), data1['X2'].to_numpy(), data1['Y_pred2'].to_numpy(), c=\"b\")\n",
        "ax.scatter(minibkmeans.cluster_centers_[0][0], minibkmeans.cluster_centers_[0][1], 0 )\n",
        "ax.scatter(minibkmeans.cluster_centers_[1][0], minibkmeans.cluster_centers_[1][1], 1 )\n",
        "ax.set_xlabel('X1')\n",
        "ax.set_ylabel('X2')\n",
        "ax.set_zlabel('Y')\n",
        "ax.view_init(elev=30, azim = 30)\n",
        "plt.show()"
      ],
      "metadata": {
        "colab": {
          "base_uri": "https://localhost:8080/",
          "height": 248
        },
        "id": "6CxhmSAjvhpU",
        "outputId": "ff169d0a-ec5f-4f52-cd44-f65f8bab0b39"
      },
      "execution_count": 126,
      "outputs": [
        {
          "output_type": "display_data",
          "data": {
            "text/plain": [
              "<Figure size 432x288 with 1 Axes>"
            ],
            "image/png": "[encoded data removed]"
          },
          "metadata": {
            "needs_background": "light"
          }
        }
      ]
    },
    {
      "cell_type": "markdown",
      "metadata": {
        "id": "Q01igap1hAmQ"
      },
      "source": [
        "# Evaluation\n",
        "\n",
        "* Adjusted Rand Index\n",
        "* Calinski-Harabasz Index\n",
        "* Davies- Bouldin index"
      ]
    },
    {
      "cell_type": "markdown",
      "source": [
        "Evaluation for KMeans"
      ],
      "metadata": {
        "id": "wZDaRn_Byu_h"
      }
    },
    {
      "cell_type": "code",
      "source": [
        "metrics.adjusted_rand_score(y_Test, X_Test[\"Y_pred\"])"
      ],
      "metadata": {
        "colab": {
          "base_uri": "https://localhost:8080/"
        },
        "id": "sEhKRnEsxM1v",
        "outputId": "b887d87e-0b10-4f04-b032-d9a806904d70"
      },
      "execution_count": 90,
      "outputs": [
        {
          "output_type": "execute_result",
          "data": {
            "text/plain": [
              "0.07079646017699115"
            ]
          },
          "metadata": {},
          "execution_count": 90
        }
      ]
    },
    {
      "cell_type": "code",
      "source": [
        "metrics.calinski_harabasz_score(X_Test, X_Test[\"Y_pred\"])"
      ],
      "metadata": {
        "colab": {
          "base_uri": "https://localhost:8080/"
        },
        "id": "ca_uwoH-zt_R",
        "outputId": "a5cd9e8a-a33f-498e-ba83-56410708e3d4"
      },
      "execution_count": 93,
      "outputs": [
        {
          "output_type": "execute_result",
          "data": {
            "text/plain": [
              "27.36901169469768"
            ]
          },
          "metadata": {},
          "execution_count": 93
        }
      ]
    },
    {
      "cell_type": "code",
      "source": [
        "metrics.davies_bouldin_score(X_Test, X_Test[\"Y_pred\"])"
      ],
      "metadata": {
        "colab": {
          "base_uri": "https://localhost:8080/"
        },
        "id": "YCoPxJTzzuoV",
        "outputId": "7c05ab84-a574-499d-c0f5-f07319f261d6"
      },
      "execution_count": 92,
      "outputs": [
        {
          "output_type": "execute_result",
          "data": {
            "text/plain": [
              "0.44236401133229014"
            ]
          },
          "metadata": {},
          "execution_count": 92
        }
      ]
    },
    {
      "cell_type": "markdown",
      "source": [
        "Evaluation for MiniBatchKMeans"
      ],
      "metadata": {
        "id": "1McQuZP10spm"
      }
    },
    {
      "cell_type": "code",
      "source": [
        "metrics.adjusted_rand_score(y_Test, X_Test[\"Y_pred2\"])"
      ],
      "metadata": {
        "colab": {
          "base_uri": "https://localhost:8080/"
        },
        "id": "ybZzLZp20yp3",
        "outputId": "9372d04a-3adc-4bdf-9bff-99d79c2edfbb"
      },
      "execution_count": 95,
      "outputs": [
        {
          "output_type": "execute_result",
          "data": {
            "text/plain": [
              "0.07079646017699115"
            ]
          },
          "metadata": {},
          "execution_count": 95
        }
      ]
    },
    {
      "cell_type": "code",
      "source": [
        "metrics.calinski_harabasz_score(X_Test, X_Test[\"Y_pred2\"])"
      ],
      "metadata": {
        "colab": {
          "base_uri": "https://localhost:8080/"
        },
        "id": "GG7u5V8i1ClL",
        "outputId": "d2adc585-b09b-4eec-9669-c8a44460177b"
      },
      "execution_count": 96,
      "outputs": [
        {
          "output_type": "execute_result",
          "data": {
            "text/plain": [
              "27.36901169469768"
            ]
          },
          "metadata": {},
          "execution_count": 96
        }
      ]
    },
    {
      "cell_type": "code",
      "source": [
        "metrics.davies_bouldin_score(X_Test, X_Test[\"Y_pred2\"])"
      ],
      "metadata": {
        "colab": {
          "base_uri": "https://localhost:8080/"
        },
        "id": "O-zquLSU1FY5",
        "outputId": "c4ac2a30-631f-4c30-c35c-9f7352deea5a"
      },
      "execution_count": 97,
      "outputs": [
        {
          "output_type": "execute_result",
          "data": {
            "text/plain": [
              "0.44236401133229014"
            ]
          },
          "metadata": {},
          "execution_count": 97
        }
      ]
    },
    {
      "cell_type": "markdown",
      "source": [
        "# Оцiнимо швидкодiю методів на великих наборах даних"
      ],
      "metadata": {
        "id": "jp9_xYMx2AAB"
      }
    },
    {
      "cell_type": "code",
      "source": [
        "Xm, Ym = make_moons(n_samples=1000000)"
      ],
      "metadata": {
        "id": "9vYM2c6G2pNQ"
      },
      "execution_count": 100,
      "outputs": []
    },
    {
      "cell_type": "code",
      "source": [
        "Xm = pd.DataFrame(Xm)\n",
        "Ym = pd.DataFrame(Ym)"
      ],
      "metadata": {
        "id": "pMED_1hF3PhR"
      },
      "execution_count": 104,
      "outputs": []
    },
    {
      "cell_type": "code",
      "source": [
        "datam = pd.concat([Xm,Ym], axis=1, join=\"inner\")\n",
        "datam.columns = ['X1','X2','Y']\n",
        "datam.head()"
      ],
      "metadata": {
        "colab": {
          "base_uri": "https://localhost:8080/",
          "height": 206
        },
        "id": "LlDU567K3F9R",
        "outputId": "69fad8a7-3405-4c3e-d92e-c161d7fd2b7f"
      },
      "execution_count": 108,
      "outputs": [
        {
          "output_type": "execute_result",
          "data": {
            "text/plain": [
              "         X1        X2  Y\n",
              "0  0.942615  0.333881  0\n",
              "1 -0.681935  0.731412  0\n",
              "2  0.007467  0.378027  1\n",
              "3 -0.948930  0.315488  0\n",
              "4 -0.617201  0.786806  0"
            ],
            "text/html": [
              "\n",
              "  <div id=\"df-61cad07e-8889-4b44-bef0-0c54ed88fcdc\">\n",
              "    <div class=\"colab-df-container\">\n",
              "      <div>\n",
              "<style scoped>\n",
              "    .dataframe tbody tr th:only-of-type {\n",
              "        vertical-align: middle;\n",
              "    }\n",
              "\n",
              "    .dataframe tbody tr th {\n",
              "        vertical-align: top;\n",
              "    }\n",
              "\n",
              "    .dataframe thead th {\n",
              "        text-align: right;\n",
              "    }\n",
              "</style>\n",
              "<table border=\"1\" class=\"dataframe\">\n",
              "  <thead>\n",
              "    <tr style=\"text-align: right;\">\n",
              "      <th></th>\n",
              "      <th>X1</th>\n",
              "      <th>X2</th>\n",
              "      <th>Y</th>\n",
              "    </tr>\n",
              "  </thead>\n",
              "  <tbody>\n",
              "    <tr>\n",
              "      <th>0</th>\n",
              "      <td>0.942615</td>\n",
              "      <td>0.333881</td>\n",
              "      <td>0</td>\n",
              "    </tr>\n",
              "    <tr>\n",
              "      <th>1</th>\n",
              "      <td>-0.681935</td>\n",
              "      <td>0.731412</td>\n",
              "      <td>0</td>\n",
              "    </tr>\n",
              "    <tr>\n",
              "      <th>2</th>\n",
              "      <td>0.007467</td>\n",
              "      <td>0.378027</td>\n",
              "      <td>1</td>\n",
              "    </tr>\n",
              "    <tr>\n",
              "      <th>3</th>\n",
              "      <td>-0.948930</td>\n",
              "      <td>0.315488</td>\n",
              "      <td>0</td>\n",
              "    </tr>\n",
              "    <tr>\n",
              "      <th>4</th>\n",
              "      <td>-0.617201</td>\n",
              "      <td>0.786806</td>\n",
              "      <td>0</td>\n",
              "    </tr>\n",
              "  </tbody>\n",
              "</table>\n",
              "</div>\n",
              "      <button class=\"colab-df-convert\" onclick=\"convertToInteractive('df-61cad07e-8889-4b44-bef0-0c54ed88fcdc')\"\n",
              "              title=\"Convert this dataframe to an interactive table.\"\n",
              "              style=\"display:none;\">\n",
              "        \n",
              "  <svg xmlns=\"http://www.w3.org/2000/svg\" height=\"24px\"viewBox=\"0 0 24 24\"\n",
              "       width=\"24px\">\n",
              "    <path d=\"M0 0h24v24H0V0z\" fill=\"none\"/>\n",
              "    <path d=\"M18.56 5.44l.94 2.06.94-2.06 2.06-.94-2.06-.94-.94-2.06-.94 2.06-2.06.94zm-11 1L8.5 8.5l.94-2.06 2.06-.94-2.06-.94L8.5 2.5l-.94 2.06-2.06.94zm10 10l.94 2.06.94-2.06 2.06-.94-2.06-.94-.94-2.06-.94 2.06-2.06.94z\"/><path d=\"M17.41 7.96l-1.37-1.37c-.4-.4-.92-.59-1.43-.59-.52 0-1.04.2-1.43.59L10.3 9.45l-7.72 7.72c-.78.78-.78 2.05 0 2.83L4 21.41c.39.39.9.59 1.41.59.51 0 1.02-.2 1.41-.59l7.78-7.78 2.81-2.81c.8-.78.8-2.07 0-2.86zM5.41 20L4 18.59l7.72-7.72 1.47 1.35L5.41 20z\"/>\n",
              "  </svg>\n",
              "      </button>\n",
              "      \n",
              "  <style>\n",
              "    .colab-df-container {\n",
              "      display:flex;\n",
              "      flex-wrap:wrap;\n",
              "      gap: 12px;\n",
              "    }\n",
              "\n",
              "    .colab-df-convert {\n",
              "      background-color: #E8F0FE;\n",
              "      border: none;\n",
              "      border-radius: 50%;\n",
              "      cursor: pointer;\n",
              "      display: none;\n",
              "      fill: #1967D2;\n",
              "      height: 32px;\n",
              "      padding: 0 0 0 0;\n",
              "      width: 32px;\n",
              "    }\n",
              "\n",
              "    .colab-df-convert:hover {\n",
              "      background-color: #E2EBFA;\n",
              "      box-shadow: 0px 1px 2px rgba(60, 64, 67, 0.3), 0px 1px 3px 1px rgba(60, 64, 67, 0.15);\n",
              "      fill: #174EA6;\n",
              "    }\n",
              "\n",
              "    [theme=dark] .colab-df-convert {\n",
              "      background-color: #3B4455;\n",
              "      fill: #D2E3FC;\n",
              "    }\n",
              "\n",
              "    [theme=dark] .colab-df-convert:hover {\n",
              "      background-color: #434B5C;\n",
              "      box-shadow: 0px 1px 3px 1px rgba(0, 0, 0, 0.15);\n",
              "      filter: drop-shadow(0px 1px 2px rgba(0, 0, 0, 0.3));\n",
              "      fill: #FFFFFF;\n",
              "    }\n",
              "  </style>\n",
              "\n",
              "      <script>\n",
              "        const buttonEl =\n",
              "          document.querySelector('#df-61cad07e-8889-4b44-bef0-0c54ed88fcdc button.colab-df-convert');\n",
              "        buttonEl.style.display =\n",
              "          google.colab.kernel.accessAllowed ? 'block' : 'none';\n",
              "\n",
              "        async function convertToInteractive(key) {\n",
              "          const element = document.querySelector('#df-61cad07e-8889-4b44-bef0-0c54ed88fcdc');\n",
              "          const dataTable =\n",
              "            await google.colab.kernel.invokeFunction('convertToInteractive',\n",
              "                                                     [key], {});\n",
              "          if (!dataTable) return;\n",
              "\n",
              "          const docLinkHtml = 'Like what you see? Visit the ' +\n",
              "            '<a target=\"_blank\" href=https://colab.research.google.com/notebooks/data_table.ipynb>data table notebook</a>'\n",
              "            + ' to learn more about interactive tables.';\n",
              "          element.innerHTML = '';\n",
              "          dataTable['output_type'] = 'display_data';\n",
              "          await google.colab.output.renderOutput(dataTable, element);\n",
              "          const docLink = document.createElement('div');\n",
              "          docLink.innerHTML = docLinkHtml;\n",
              "          element.appendChild(docLink);\n",
              "        }\n",
              "      </script>\n",
              "    </div>\n",
              "  </div>\n",
              "  "
            ]
          },
          "metadata": {},
          "execution_count": 108
        }
      ]
    },
    {
      "cell_type": "code",
      "source": [
        "%%time\n",
        "kmeans = KMeans(n_clusters=2, random_state=0).fit(datam)"
      ],
      "metadata": {
        "colab": {
          "base_uri": "https://localhost:8080/"
        },
        "id": "SHDZndtF3ctU",
        "outputId": "d7e2ffb2-adac-4e6f-e08c-039a3f9622e9"
      },
      "execution_count": 106,
      "outputs": [
        {
          "output_type": "stream",
          "name": "stdout",
          "text": [
            "CPU times: user 5.7 s, sys: 1.11 s, total: 6.81 s\n",
            "Wall time: 4.05 s\n"
          ]
        }
      ]
    },
    {
      "cell_type": "code",
      "source": [
        "%%time\n",
        "minibkmeans = MiniBatchKMeans(n_clusters=2, random_state=0).fit(datam)"
      ],
      "metadata": {
        "colab": {
          "base_uri": "https://localhost:8080/"
        },
        "id": "bhUtn8fU3VJV",
        "outputId": "c29bb79d-4bb9-4d2d-cfa3-f82cb700969e"
      },
      "execution_count": 107,
      "outputs": [
        {
          "output_type": "stream",
          "name": "stdout",
          "text": [
            "CPU times: user 354 ms, sys: 147 ms, total: 501 ms\n",
            "Wall time: 284 ms\n"
          ]
        }
      ]
    },
    {
      "cell_type": "markdown",
      "source": [
        "# Побудуємо кiлька альтернативних моделей"
      ],
      "metadata": {
        "id": "91EEdBGi4hAY"
      }
    },
    {
      "cell_type": "code",
      "source": [
        "%%time\n",
        "kmeans = KMeans(n_clusters=5, init='k-means++', n_init=10, max_iter=100000, tol=0.0001).fit(X_Train)"
      ],
      "metadata": {
        "colab": {
          "base_uri": "https://localhost:8080/"
        },
        "id": "mlbV-uGm4n4-",
        "outputId": "a399efea-baf3-495c-a603-be0ab36f8251"
      },
      "execution_count": 154,
      "outputs": [
        {
          "output_type": "stream",
          "name": "stdout",
          "text": [
            "CPU times: user 208 ms, sys: 399 µs, total: 208 ms\n",
            "Wall time: 186 ms\n"
          ]
        }
      ]
    },
    {
      "cell_type": "code",
      "source": [
        "X_Train[\"Y_pred\"] = kmeans.labels_\n",
        "X_Test[\"Y_pred\"] = kmeans.predict(X_Test)\n",
        "\n",
        "metrics.adjusted_rand_score(y_Test, X_Test[\"Y_pred\"]), metrics.calinski_harabasz_score(X_Test, X_Test[\"Y_pred\"]), metrics.davies_bouldin_score(X_Test, X_Test[\"Y_pred\"])"
      ],
      "metadata": {
        "colab": {
          "base_uri": "https://localhost:8080/"
        },
        "id": "GwoPaay07Cv9",
        "outputId": "876f90a3-1689-479f-da20-59f34338737c"
      },
      "execution_count": 155,
      "outputs": [
        {
          "output_type": "execute_result",
          "data": {
            "text/plain": [
              "(0.26083499397491744, 228.7891228678533, 0.39863166159858343)"
            ]
          },
          "metadata": {},
          "execution_count": 155
        }
      ]
    },
    {
      "cell_type": "code",
      "source": [
        "%%time\n",
        "kmeans = KMeans(n_clusters=2, init='k-means++', n_init=10, max_iter=100, tol=0.01).fit(X_Train)"
      ],
      "metadata": {
        "colab": {
          "base_uri": "https://localhost:8080/"
        },
        "id": "U0wuss4R4f0X",
        "outputId": "6a8551b2-4006-4c0d-c1d6-51ad50bd1d86"
      },
      "execution_count": 140,
      "outputs": [
        {
          "output_type": "stream",
          "name": "stdout",
          "text": [
            "CPU times: user 35.3 ms, sys: 0 ns, total: 35.3 ms\n",
            "Wall time: 24 ms\n"
          ]
        }
      ]
    },
    {
      "cell_type": "code",
      "source": [
        "X_Train[\"Y_pred\"] = kmeans.labels_\n",
        "X_Test[\"Y_pred\"] = kmeans.predict(X_Test)\n",
        "\n",
        "metrics.adjusted_rand_score(y_Test, X_Test[\"Y_pred\"]), metrics.calinski_harabasz_score(X_Test, X_Test[\"Y_pred\"]), metrics.davies_bouldin_score(X_Test, X_Test[\"Y_pred\"])"
      ],
      "metadata": {
        "colab": {
          "base_uri": "https://localhost:8080/"
        },
        "id": "XE8Hv6jP8FwW",
        "outputId": "e994581c-75a0-49a9-d866-7a34dacd34a5"
      },
      "execution_count": 141,
      "outputs": [
        {
          "output_type": "execute_result",
          "data": {
            "text/plain": [
              "(0.15293440255116228, 136.7436001077425, 0.578555871810926)"
            ]
          },
          "metadata": {},
          "execution_count": 141
        }
      ]
    },
    {
      "cell_type": "code",
      "source": [
        "%%time\n",
        "kmeans = KMeans(n_clusters=2, init='random', n_init=10, max_iter=300, tol=0.1).fit(X_Train)"
      ],
      "metadata": {
        "colab": {
          "base_uri": "https://localhost:8080/"
        },
        "id": "yUgj2O1y6BbQ",
        "outputId": "729b985b-dfdc-4ca8-b93b-d4a07f7d3721"
      },
      "execution_count": 146,
      "outputs": [
        {
          "output_type": "stream",
          "name": "stdout",
          "text": [
            "CPU times: user 74.9 ms, sys: 110 µs, total: 75.1 ms\n",
            "Wall time: 172 ms\n"
          ]
        }
      ]
    },
    {
      "cell_type": "code",
      "source": [
        "X_Train[\"Y_pred\"] = kmeans.labels_\n",
        "X_Test[\"Y_pred\"] = kmeans.predict(X_Test)\n",
        "\n",
        "metrics.adjusted_rand_score(y_Test, X_Test[\"Y_pred\"]), metrics.calinski_harabasz_score(X_Test, X_Test[\"Y_pred\"]), metrics.davies_bouldin_score(X_Test, X_Test[\"Y_pred\"])"
      ],
      "metadata": {
        "colab": {
          "base_uri": "https://localhost:8080/"
        },
        "id": "QmjqiAPX8L9f",
        "outputId": "3eb44016-aaeb-48a3-8129-6a5a2bbcd6aa"
      },
      "execution_count": 147,
      "outputs": [
        {
          "output_type": "execute_result",
          "data": {
            "text/plain": [
              "(0.15293440255116228, 136.7436001077425, 0.5785558718109262)"
            ]
          },
          "metadata": {},
          "execution_count": 147
        }
      ]
    },
    {
      "cell_type": "code",
      "source": [
        "%%time\n",
        "minibkmeans = MiniBatchKMeans(n_clusters=12, init='k-means++', n_init=10, max_iter=100, tol=0.0001, batch_size=2048).fit(X_Train)"
      ],
      "metadata": {
        "colab": {
          "base_uri": "https://localhost:8080/"
        },
        "id": "peGSqc4F6Gd2",
        "outputId": "3ab9b54a-259f-40b7-c97e-d7a469c73e01"
      },
      "execution_count": 156,
      "outputs": [
        {
          "output_type": "stream",
          "name": "stdout",
          "text": [
            "CPU times: user 201 ms, sys: 246 µs, total: 201 ms\n",
            "Wall time: 223 ms\n"
          ]
        }
      ]
    },
    {
      "cell_type": "code",
      "source": [
        "X_Train[\"Y_pred\"] = minibkmeans.labels_\n",
        "X_Test[\"Y_pred\"] = minibkmeans.predict(X_Test)\n",
        "\n",
        "metrics.adjusted_rand_score(y_Test, X_Test[\"Y_pred\"]), metrics.calinski_harabasz_score(X_Test, X_Test[\"Y_pred\"]), metrics.davies_bouldin_score(X_Test, X_Test[\"Y_pred\"])"
      ],
      "metadata": {
        "colab": {
          "base_uri": "https://localhost:8080/"
        },
        "id": "YYOB0Xf-8nke",
        "outputId": "be9cadcc-2853-4404-d4a8-f349290008c5"
      },
      "execution_count": 157,
      "outputs": [
        {
          "output_type": "execute_result",
          "data": {
            "text/plain": [
              "(0.17750846990230065, 2317.454604523287, 0.12084964660595438)"
            ]
          },
          "metadata": {},
          "execution_count": 157
        }
      ]
    },
    {
      "cell_type": "code",
      "source": [
        "%%time\n",
        "minibkmeans = MiniBatchKMeans(n_clusters=3, init='k-means++', n_init=10, max_iter=100, tol=0.0001, batch_size=4096).fit(X_Train)"
      ],
      "metadata": {
        "colab": {
          "base_uri": "https://localhost:8080/"
        },
        "id": "Y8qhoxXj62pi",
        "outputId": "cef7cd8b-0726-47ff-cef5-21b248e7c02d"
      },
      "execution_count": 159,
      "outputs": [
        {
          "output_type": "stream",
          "name": "stdout",
          "text": [
            "CPU times: user 41.6 ms, sys: 820 µs, total: 42.4 ms\n",
            "Wall time: 30.6 ms\n"
          ]
        }
      ]
    },
    {
      "cell_type": "code",
      "source": [
        "X_Train[\"Y_pred\"] = minibkmeans.labels_\n",
        "X_Test[\"Y_pred\"] = minibkmeans.predict(X_Test)\n",
        "\n",
        "metrics.adjusted_rand_score(y_Test, X_Test[\"Y_pred\"]), metrics.calinski_harabasz_score(X_Test, X_Test[\"Y_pred\"]), metrics.davies_bouldin_score(X_Test, X_Test[\"Y_pred\"])"
      ],
      "metadata": {
        "colab": {
          "base_uri": "https://localhost:8080/"
        },
        "id": "q8fJGNLx8x_M",
        "outputId": "730a4934-5380-4194-ae23-0d2e7dc1b0b6"
      },
      "execution_count": 153,
      "outputs": [
        {
          "output_type": "execute_result",
          "data": {
            "text/plain": [
              "(0.25945614695697755, 110.62394801424068, 0.5658644618959512)"
            ]
          },
          "metadata": {},
          "execution_count": 153
        }
      ]
    },
    {
      "cell_type": "markdown",
      "source": [
        "# Чи є розбиття стабiльним на пiдвибiрках даних?"
      ],
      "metadata": {
        "id": "ZrCAEjFp-Pl7"
      }
    },
    {
      "cell_type": "code",
      "source": [
        "X_Train2, y_Train2, X_Test2, y_Test2 = split_data(X_Train[['X1', 'X2']], y_Train, fraction = 0.4)"
      ],
      "metadata": {
        "id": "GOcfqo9_-VvJ"
      },
      "execution_count": 167,
      "outputs": []
    },
    {
      "cell_type": "code",
      "source": [
        "%%time\n",
        "minibkmeans = MiniBatchKMeans(n_clusters=12, init='k-means++', n_init=10, max_iter=100, tol=0.0001, batch_size=2048).fit(X_Train2)"
      ],
      "metadata": {
        "colab": {
          "base_uri": "https://localhost:8080/"
        },
        "id": "AoXWxpGV_Dby",
        "outputId": "081b57fe-13cb-4893-f98f-46b58f23e087"
      },
      "execution_count": 170,
      "outputs": [
        {
          "output_type": "stream",
          "name": "stdout",
          "text": [
            "CPU times: user 376 ms, sys: 1.21 ms, total: 377 ms\n",
            "Wall time: 385 ms\n"
          ]
        }
      ]
    },
    {
      "cell_type": "code",
      "source": [
        "X_Train2[\"Y_pred\"] = minibkmeans.labels_\n",
        "X_Test2[\"Y_pred\"] = minibkmeans.predict(X_Test2)\n",
        "\n",
        "metrics.adjusted_rand_score(y_Test, X_Test[\"Y_pred\"]), metrics.calinski_harabasz_score(X_Test, X_Test[\"Y_pred\"]), metrics.davies_bouldin_score(X_Test, X_Test[\"Y_pred\"])"
      ],
      "metadata": {
        "colab": {
          "base_uri": "https://localhost:8080/"
        },
        "id": "5sEoYcsJ-OEf",
        "outputId": "02984b9b-837e-4ac9-d0f9-8bd893f81860"
      },
      "execution_count": 172,
      "outputs": [
        {
          "output_type": "execute_result",
          "data": {
            "text/plain": [
              "(0.17750846990230065, 2097.530959045939, 0.11466567444936125)"
            ]
          },
          "metadata": {},
          "execution_count": 172
        }
      ]
    },
    {
      "cell_type": "markdown",
      "source": [
        "Як бачимо, розбиття не є стабільним.\n",
        "Якість роботи моделей не дуже хороша, схоже що KMeans - не найкращий алгоритм для таких даних"
      ],
      "metadata": {
        "id": "7FhsWqeDAWTZ"
      }
    }
  ],
  "metadata": {
    "colab": {
      "toc_visible": true,
      "provenance": []
    },
    "kernelspec": {
      "display_name": "Python 3",
      "name": "python3"
    },
    "language_info": {
      "name": "python"
    }
  },
  "nbformat": 4,
  "nbformat_minor": 0
}